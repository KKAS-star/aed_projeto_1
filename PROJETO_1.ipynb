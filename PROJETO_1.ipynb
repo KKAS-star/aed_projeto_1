{
  "nbformat": 4,
  "nbformat_minor": 0,
  "metadata": {
    "file_extension": ".py",
    "kernelspec": {
      "display_name": "Python 3",
      "language": "python",
      "name": "python3"
    },
    "language_info": {
      "codemirror_mode": {
        "name": "ipython",
        "version": 3
      },
      "file_extension": ".py",
      "mimetype": "text/x-python",
      "name": "python",
      "nbconvert_exporter": "python",
      "pygments_lexer": "ipython3",
      "version": "3.7.4"
    },
    "mimetype": "text/x-python",
    "name": "python",
    "npconvert_exporter": "python",
    "pygments_lexer": "ipython3",
    "version": 3,
    "colab": {
      "name": "PROJETO_1",
      "provenance": []
    }
  },
  "cells": [
    {
      "cell_type": "markdown",
      "metadata": {
        "id": "dboEhD-XaJqR",
        "colab_type": "text"
      },
      "source": [
        "# Projeto #1 - Análise Exploratória de Dados\n",
        "\n",
        "Antes de começar, leia as [Instruções](https://github.com/thvmm/pos-ds-ia/tree/master/projeto_1#instru%C3%A7%C3%B5es) e os [Critérios de Avaliação](https://github.com/thvmm/pos-ds-ia/tree/master/projeto_1#crit%C3%A9rios-de-avalia%C3%A7%C3%A3o)\n"
      ]
    },
    {
      "cell_type": "markdown",
      "metadata": {
        "id": "z49Qi3QZaJqT",
        "colab_type": "text"
      },
      "source": [
        "### 1) **(5%)** Qual a base escolhida e qual seu interesse nela?"
      ]
    },
    {
      "cell_type": "markdown",
      "metadata": {
        "id": "xS2c_YWHK3yV",
        "colab_type": "text"
      },
      "source": [
        "A base escolhida é entitulada \"Suicide Rates Overview 1985 to 2016\" (in, https://www.kaggle.com/russellyates88/suicide-rates-overview-1985-to-2016), e, seu objeto é a análise comparativa de informações sócio-econômicas com as taxas de sucicídio dos países no período de 1985 a 2016. De acordo com a Organização Mundial de Saúde, um suicídio ocorre a cada 40 segundos no mundo, ou seja, tais morte já se tornaram um problema de saúde pública, e como tal, devem ser prevenidas através de políticas pública, com programas de saúde e educação, cuja formulação pode ser embasada através dos dados em questão.\n"
      ]
    },
    {
      "cell_type": "markdown",
      "metadata": {
        "id": "uMyAmZpxaJqU",
        "colab_type": "text"
      },
      "source": [
        "*Indique o link da base no Kaggle e explique em um parágrafo curto por que essa base é interessante para você.*"
      ]
    },
    {
      "cell_type": "markdown",
      "metadata": {
        "id": "nrlmxYgbaJqU",
        "colab_type": "text"
      },
      "source": [
        "### 2) **(5%)** Descrição básica do conjunto de dados escolhido pelo aluno (1 parágrafo).\n",
        "- Identificação da variável a serem trabalhadas\n",
        "- Classificação das variáveis como: contínua ou discreta.\n"
      ]
    },
    {
      "cell_type": "markdown",
      "metadata": {
        "id": "J-XxkAUhaJqV",
        "colab_type": "text"
      },
      "source": [
        "*Descrição da base e suas variáveis*\n",
        "\n",
        "A base de dados é composta por 12 colunas, denominadas: \"country\" (país),\t\"year\" (ano),\t\"sex\" (sexo),\t\"age\"(idade),\t\"suicides_no\" (nº suicídio),\t\"population\" (população),\t\"suicides/100k pop\" (nº suicídios a cada 100 mil habitantes),\t\"country-year\" (país-ano),\t\"HDI for year\" (IDH por ano),\t\"gdp_for_year\" (PIB por ano),\t\"gdp_per_capita\" (PIB per capita),\t\"generation\" (geração). A feature \"generation\" foi calculada com base na  média de agrupamento etário. As variáveis \"age\", \"suicides_no\", \"population\", \"suicides/100k pop\" são discretas; já as variáveis \"HDI for year\", \"gdp_for_year\", \"gdp_per_capita\" são contínuas."
      ]
    },
    {
      "cell_type": "markdown",
      "metadata": {
        "id": "xzkpsZ2aaJqW",
        "colab_type": "text"
      },
      "source": [
        "### 3) **(15%)** Faça uma avaliação descritiva da sua base. Quantas linhas ela possui? Quais os tipos de dados? Quantas e quais features possuem?\n",
        "\n",
        "Cada variável escolhida pelo aluno precisa passar por ao menos 1 pré-processamento. O pré-processamento pode ser (mas não está limitado a):\n",
        "- Checagem se os valores estão dentro de um limite permitido ou razoável.\n",
        "- Tratamento de valores ausentes por eliminação ou substituição.\n",
        "- Conversão do tipo de dados.\n"
      ]
    },
    {
      "cell_type": "code",
      "metadata": {
        "colab_type": "code",
        "id": "p5qyAEk3L0ky",
        "colab": {}
      },
      "source": [
        "import numpy as np\n",
        "import pandas as pd\n",
        "import matplotlib.pyplot as plt\n",
        "import seaborn as sns"
      ],
      "execution_count": 0,
      "outputs": []
    },
    {
      "cell_type": "code",
      "metadata": {
        "id": "nLXfl9u6L27Z",
        "colab_type": "code",
        "outputId": "7238d558-ca5c-45d9-f21e-56cff6449d14",
        "colab": {
          "base_uri": "https://localhost:8080/",
          "height": 34
        }
      },
      "source": [
        "from google.colab import drive\n",
        "drive.mount('/content/drive', force_remount=True)\n",
        "arquivo_base = \"/content/drive/My Drive/Colab Notebooks/suicide-rates-overview-1985-to-2016.csv\""
      ],
      "execution_count": 43,
      "outputs": [
        {
          "output_type": "stream",
          "text": [
            "Mounted at /content/drive\n"
          ],
          "name": "stdout"
        }
      ]
    },
    {
      "cell_type": "code",
      "metadata": {
        "id": "b0TWZ4THf_8g",
        "colab_type": "code",
        "colab": {}
      },
      "source": [
        "df = pd.read_csv(arquivo_base)"
      ],
      "execution_count": 0,
      "outputs": []
    },
    {
      "cell_type": "code",
      "metadata": {
        "id": "XZ4eW16WVVqt",
        "colab_type": "code",
        "outputId": "1d72e91a-7c3f-47a5-c00a-8ccd9b9f33ea",
        "colab": {
          "base_uri": "https://localhost:8080/",
          "height": 204
        }
      },
      "source": [
        "df.head(5)"
      ],
      "execution_count": 0,
      "outputs": [
        {
          "output_type": "execute_result",
          "data": {
            "text/html": [
              "<div>\n",
              "<style scoped>\n",
              "    .dataframe tbody tr th:only-of-type {\n",
              "        vertical-align: middle;\n",
              "    }\n",
              "\n",
              "    .dataframe tbody tr th {\n",
              "        vertical-align: top;\n",
              "    }\n",
              "\n",
              "    .dataframe thead th {\n",
              "        text-align: right;\n",
              "    }\n",
              "</style>\n",
              "<table border=\"1\" class=\"dataframe\">\n",
              "  <thead>\n",
              "    <tr style=\"text-align: right;\">\n",
              "      <th></th>\n",
              "      <th>country</th>\n",
              "      <th>year</th>\n",
              "      <th>sex</th>\n",
              "      <th>age</th>\n",
              "      <th>suicides_no</th>\n",
              "      <th>population</th>\n",
              "      <th>suicides/100k pop</th>\n",
              "      <th>country-year</th>\n",
              "      <th>HDI for year</th>\n",
              "      <th>gdp_for_year</th>\n",
              "      <th>gdp_per_capita</th>\n",
              "      <th>generation</th>\n",
              "    </tr>\n",
              "  </thead>\n",
              "  <tbody>\n",
              "    <tr>\n",
              "      <th>0</th>\n",
              "      <td>Albania</td>\n",
              "      <td>1987</td>\n",
              "      <td>male</td>\n",
              "      <td>15-24 years</td>\n",
              "      <td>21</td>\n",
              "      <td>312900</td>\n",
              "      <td>6.71</td>\n",
              "      <td>Albania1987</td>\n",
              "      <td>NaN</td>\n",
              "      <td>2,156,624,900</td>\n",
              "      <td>796</td>\n",
              "      <td>Generation X</td>\n",
              "    </tr>\n",
              "    <tr>\n",
              "      <th>1</th>\n",
              "      <td>Albania</td>\n",
              "      <td>1987</td>\n",
              "      <td>male</td>\n",
              "      <td>35-54 years</td>\n",
              "      <td>16</td>\n",
              "      <td>308000</td>\n",
              "      <td>5.19</td>\n",
              "      <td>Albania1987</td>\n",
              "      <td>NaN</td>\n",
              "      <td>2,156,624,900</td>\n",
              "      <td>796</td>\n",
              "      <td>Silent</td>\n",
              "    </tr>\n",
              "    <tr>\n",
              "      <th>2</th>\n",
              "      <td>Albania</td>\n",
              "      <td>1987</td>\n",
              "      <td>female</td>\n",
              "      <td>15-24 years</td>\n",
              "      <td>14</td>\n",
              "      <td>289700</td>\n",
              "      <td>4.83</td>\n",
              "      <td>Albania1987</td>\n",
              "      <td>NaN</td>\n",
              "      <td>2,156,624,900</td>\n",
              "      <td>796</td>\n",
              "      <td>Generation X</td>\n",
              "    </tr>\n",
              "    <tr>\n",
              "      <th>3</th>\n",
              "      <td>Albania</td>\n",
              "      <td>1987</td>\n",
              "      <td>male</td>\n",
              "      <td>75+ years</td>\n",
              "      <td>1</td>\n",
              "      <td>21800</td>\n",
              "      <td>4.59</td>\n",
              "      <td>Albania1987</td>\n",
              "      <td>NaN</td>\n",
              "      <td>2,156,624,900</td>\n",
              "      <td>796</td>\n",
              "      <td>G.I. Generation</td>\n",
              "    </tr>\n",
              "    <tr>\n",
              "      <th>4</th>\n",
              "      <td>Albania</td>\n",
              "      <td>1987</td>\n",
              "      <td>male</td>\n",
              "      <td>25-34 years</td>\n",
              "      <td>9</td>\n",
              "      <td>274300</td>\n",
              "      <td>3.28</td>\n",
              "      <td>Albania1987</td>\n",
              "      <td>NaN</td>\n",
              "      <td>2,156,624,900</td>\n",
              "      <td>796</td>\n",
              "      <td>Boomers</td>\n",
              "    </tr>\n",
              "  </tbody>\n",
              "</table>\n",
              "</div>"
            ],
            "text/plain": [
              "   country  year     sex  ...   gdp_for_year  gdp_per_capita       generation\n",
              "0  Albania  1987    male  ...  2,156,624,900             796     Generation X\n",
              "1  Albania  1987    male  ...  2,156,624,900             796           Silent\n",
              "2  Albania  1987  female  ...  2,156,624,900             796     Generation X\n",
              "3  Albania  1987    male  ...  2,156,624,900             796  G.I. Generation\n",
              "4  Albania  1987    male  ...  2,156,624,900             796          Boomers\n",
              "\n",
              "[5 rows x 12 columns]"
            ]
          },
          "metadata": {
            "tags": []
          },
          "execution_count": 8
        }
      ]
    },
    {
      "cell_type": "markdown",
      "metadata": {
        "id": "MIdOvSYqJxKA",
        "colab_type": "text"
      },
      "source": [
        "*   Avaliação descritiva da base\n",
        "\n"
      ]
    },
    {
      "cell_type": "code",
      "metadata": {
        "id": "fMaP-qtAPRMC",
        "colab_type": "code",
        "outputId": "faa4dd59-a596-403a-96e2-d507905abe23",
        "colab": {
          "base_uri": "https://localhost:8080/",
          "height": 34
        }
      },
      "source": [
        "#Quantidade de linhas e colunas\n",
        "df.shape"
      ],
      "execution_count": 0,
      "outputs": [
        {
          "output_type": "execute_result",
          "data": {
            "text/plain": [
              "(27820, 12)"
            ]
          },
          "metadata": {
            "tags": []
          },
          "execution_count": 9
        }
      ]
    },
    {
      "cell_type": "code",
      "metadata": {
        "id": "A1tunsobU73k",
        "colab_type": "code",
        "outputId": "331124c3-902b-42b9-c282-1f27ac6d7f0f",
        "colab": {
          "base_uri": "https://localhost:8080/",
          "height": 85
        }
      },
      "source": [
        "#Quantas e quais features\n",
        "df.columns"
      ],
      "execution_count": 0,
      "outputs": [
        {
          "output_type": "execute_result",
          "data": {
            "text/plain": [
              "Index(['country', 'year', 'sex', 'age', 'suicides_no', 'population',\n",
              "       'suicides/100k pop', 'country-year', 'HDI for year', 'gdp_for_year',\n",
              "       'gdp_per_capita', 'generation'],\n",
              "      dtype='object')"
            ]
          },
          "metadata": {
            "tags": []
          },
          "execution_count": 10
        }
      ]
    },
    {
      "cell_type": "code",
      "metadata": {
        "id": "ttykwusFg6mE",
        "colab_type": "code",
        "outputId": "0239e7f4-6d3b-4dfa-cc50-fe84148cf21c",
        "colab": {
          "base_uri": "https://localhost:8080/",
          "height": 238
        }
      },
      "source": [
        "#Tipos de dados\n",
        "df.dtypes"
      ],
      "execution_count": 0,
      "outputs": [
        {
          "output_type": "execute_result",
          "data": {
            "text/plain": [
              "country               object\n",
              "year                   int64\n",
              "sex                   object\n",
              "age                   object\n",
              "suicides_no            int64\n",
              "population             int64\n",
              "suicides/100k pop    float64\n",
              "country-year          object\n",
              "HDI for year         float64\n",
              "gdp_for_year          object\n",
              "gdp_per_capita         int64\n",
              "generation            object\n",
              "dtype: object"
            ]
          },
          "metadata": {
            "tags": []
          },
          "execution_count": 11
        }
      ]
    },
    {
      "cell_type": "code",
      "metadata": {
        "id": "lbYc9gmCtVvi",
        "colab_type": "code",
        "outputId": "5c6069be-7cd1-46bc-b151-08f345f2df65",
        "colab": {
          "base_uri": "https://localhost:8080/",
          "height": 297
        }
      },
      "source": [
        "#Informações estatísticas da base de dados\n",
        "df.describe()"
      ],
      "execution_count": 0,
      "outputs": [
        {
          "output_type": "execute_result",
          "data": {
            "text/html": [
              "<div>\n",
              "<style scoped>\n",
              "    .dataframe tbody tr th:only-of-type {\n",
              "        vertical-align: middle;\n",
              "    }\n",
              "\n",
              "    .dataframe tbody tr th {\n",
              "        vertical-align: top;\n",
              "    }\n",
              "\n",
              "    .dataframe thead th {\n",
              "        text-align: right;\n",
              "    }\n",
              "</style>\n",
              "<table border=\"1\" class=\"dataframe\">\n",
              "  <thead>\n",
              "    <tr style=\"text-align: right;\">\n",
              "      <th></th>\n",
              "      <th>year</th>\n",
              "      <th>suicides_no</th>\n",
              "      <th>population</th>\n",
              "      <th>suicides/100k pop</th>\n",
              "      <th>HDI for year</th>\n",
              "      <th>gdp_per_capita</th>\n",
              "    </tr>\n",
              "  </thead>\n",
              "  <tbody>\n",
              "    <tr>\n",
              "      <th>count</th>\n",
              "      <td>27820.000000</td>\n",
              "      <td>27820.000000</td>\n",
              "      <td>2.782000e+04</td>\n",
              "      <td>27820.000000</td>\n",
              "      <td>8364.000000</td>\n",
              "      <td>27820.000000</td>\n",
              "    </tr>\n",
              "    <tr>\n",
              "      <th>mean</th>\n",
              "      <td>2001.258375</td>\n",
              "      <td>242.574407</td>\n",
              "      <td>1.844794e+06</td>\n",
              "      <td>12.816097</td>\n",
              "      <td>0.776601</td>\n",
              "      <td>16866.464414</td>\n",
              "    </tr>\n",
              "    <tr>\n",
              "      <th>std</th>\n",
              "      <td>8.469055</td>\n",
              "      <td>902.047917</td>\n",
              "      <td>3.911779e+06</td>\n",
              "      <td>18.961511</td>\n",
              "      <td>0.093367</td>\n",
              "      <td>18887.576472</td>\n",
              "    </tr>\n",
              "    <tr>\n",
              "      <th>min</th>\n",
              "      <td>1985.000000</td>\n",
              "      <td>0.000000</td>\n",
              "      <td>2.780000e+02</td>\n",
              "      <td>0.000000</td>\n",
              "      <td>0.483000</td>\n",
              "      <td>251.000000</td>\n",
              "    </tr>\n",
              "    <tr>\n",
              "      <th>25%</th>\n",
              "      <td>1995.000000</td>\n",
              "      <td>3.000000</td>\n",
              "      <td>9.749850e+04</td>\n",
              "      <td>0.920000</td>\n",
              "      <td>0.713000</td>\n",
              "      <td>3447.000000</td>\n",
              "    </tr>\n",
              "    <tr>\n",
              "      <th>50%</th>\n",
              "      <td>2002.000000</td>\n",
              "      <td>25.000000</td>\n",
              "      <td>4.301500e+05</td>\n",
              "      <td>5.990000</td>\n",
              "      <td>0.779000</td>\n",
              "      <td>9372.000000</td>\n",
              "    </tr>\n",
              "    <tr>\n",
              "      <th>75%</th>\n",
              "      <td>2008.000000</td>\n",
              "      <td>131.000000</td>\n",
              "      <td>1.486143e+06</td>\n",
              "      <td>16.620000</td>\n",
              "      <td>0.855000</td>\n",
              "      <td>24874.000000</td>\n",
              "    </tr>\n",
              "    <tr>\n",
              "      <th>max</th>\n",
              "      <td>2016.000000</td>\n",
              "      <td>22338.000000</td>\n",
              "      <td>4.380521e+07</td>\n",
              "      <td>224.970000</td>\n",
              "      <td>0.944000</td>\n",
              "      <td>126352.000000</td>\n",
              "    </tr>\n",
              "  </tbody>\n",
              "</table>\n",
              "</div>"
            ],
            "text/plain": [
              "               year   suicides_no  ...  HDI for year  gdp_per_capita\n",
              "count  27820.000000  27820.000000  ...   8364.000000    27820.000000\n",
              "mean    2001.258375    242.574407  ...      0.776601    16866.464414\n",
              "std        8.469055    902.047917  ...      0.093367    18887.576472\n",
              "min     1985.000000      0.000000  ...      0.483000      251.000000\n",
              "25%     1995.000000      3.000000  ...      0.713000     3447.000000\n",
              "50%     2002.000000     25.000000  ...      0.779000     9372.000000\n",
              "75%     2008.000000    131.000000  ...      0.855000    24874.000000\n",
              "max     2016.000000  22338.000000  ...      0.944000   126352.000000\n",
              "\n",
              "[8 rows x 6 columns]"
            ]
          },
          "metadata": {
            "tags": []
          },
          "execution_count": 12
        }
      ]
    },
    {
      "cell_type": "markdown",
      "metadata": {
        "id": "HphNUC6bKNJ0",
        "colab_type": "text"
      },
      "source": [
        "\n",
        "\n",
        "* Pre-processamento\n",
        "\n"
      ]
    },
    {
      "cell_type": "markdown",
      "metadata": {
        "id": "4xhRSlgKKk8v",
        "colab_type": "text"
      },
      "source": [
        "- Tratamento de valores ausentes por eliminação ou substituição"
      ]
    },
    {
      "cell_type": "code",
      "metadata": {
        "id": "Kycjqwdox-At",
        "colab_type": "code",
        "outputId": "ab463ef2-963e-4c22-9109-3515f8a5b8ed",
        "colab": {
          "base_uri": "https://localhost:8080/",
          "height": 238
        }
      },
      "source": [
        "# Verificação, com o uso do método isnull(), de valores faltantes ou nulos \n",
        "df.isnull().sum()"
      ],
      "execution_count": 0,
      "outputs": [
        {
          "output_type": "execute_result",
          "data": {
            "text/plain": [
              "country                  0\n",
              "year                     0\n",
              "sex                      0\n",
              "age                      0\n",
              "suicides_no              0\n",
              "population               0\n",
              "suicides/100k pop        0\n",
              "country-year             0\n",
              "HDI for year         19456\n",
              "gdp_for_year             0\n",
              "gdp_per_capita           0\n",
              "generation               0\n",
              "dtype: int64"
            ]
          },
          "metadata": {
            "tags": []
          },
          "execution_count": 13
        }
      ]
    },
    {
      "cell_type": "code",
      "metadata": {
        "id": "CCW_N4ooJ5Wb",
        "colab_type": "code",
        "colab": {}
      },
      "source": [
        "#Excluindo a coluna \"HDI for year\", pois, de um total de 27820 registros, 19456 são nulos\n",
        "df.drop(['HDI for year'], axis=1, inplace=True)"
      ],
      "execution_count": 0,
      "outputs": []
    },
    {
      "cell_type": "code",
      "metadata": {
        "id": "iPzAj9XUJCgZ",
        "colab_type": "code",
        "outputId": "8560a566-7bca-4277-ec22-c21caa969193",
        "colab": {
          "base_uri": "https://localhost:8080/",
          "height": 85
        }
      },
      "source": [
        "#Revisando as colunas\n",
        "df.columns"
      ],
      "execution_count": 0,
      "outputs": [
        {
          "output_type": "execute_result",
          "data": {
            "text/plain": [
              "Index(['country', 'year', 'sex', 'age', 'suicides_no', 'population',\n",
              "       'suicides/100k pop', 'country-year', 'gdp_for_year', 'gdp_per_capita',\n",
              "       'generation'],\n",
              "      dtype='object')"
            ]
          },
          "metadata": {
            "tags": []
          },
          "execution_count": 15
        }
      ]
    },
    {
      "cell_type": "markdown",
      "metadata": {
        "id": "Gjv6G8bULnh5",
        "colab_type": "text"
      },
      "source": [
        "- Conversão do tipo de dados"
      ]
    },
    {
      "cell_type": "code",
      "metadata": {
        "id": "zoVQ962bNw6r",
        "colab_type": "code",
        "colab": {}
      },
      "source": [
        "#Converter os dados da coluna \"gdp_for_year\" de object para float\n",
        "df[\"gdp_for_year\"]=df[\"gdp_for_year\"].apply(lambda x : x.replace(',',''))"
      ],
      "execution_count": 0,
      "outputs": []
    },
    {
      "cell_type": "code",
      "metadata": {
        "id": "1xO4rqLbLn0q",
        "colab_type": "code",
        "colab": {}
      },
      "source": [
        "df = df.astype({\"gdp_for_year\": float})"
      ],
      "execution_count": 0,
      "outputs": []
    },
    {
      "cell_type": "code",
      "metadata": {
        "id": "YdhC4SJkdXyZ",
        "colab_type": "code",
        "outputId": "bf7e0454-8201-42a0-c449-6b7b54f371ad",
        "colab": {
          "base_uri": "https://localhost:8080/",
          "height": 221
        }
      },
      "source": [
        "#Revisando os tipos de dados das colunas\n",
        "df.dtypes"
      ],
      "execution_count": 0,
      "outputs": [
        {
          "output_type": "execute_result",
          "data": {
            "text/plain": [
              "country               object\n",
              "year                   int64\n",
              "sex                   object\n",
              "age                   object\n",
              "suicides_no            int64\n",
              "population             int64\n",
              "suicides/100k pop    float64\n",
              "country-year          object\n",
              "gdp_for_year         float64\n",
              "gdp_per_capita         int64\n",
              "generation            object\n",
              "dtype: object"
            ]
          },
          "metadata": {
            "tags": []
          },
          "execution_count": 18
        }
      ]
    },
    {
      "cell_type": "markdown",
      "metadata": {
        "id": "BogL0AdNaJqY",
        "colab_type": "text"
      },
      "source": [
        "### 4) **(60%)** Nos blocos seguintes construa análises que vão justificar suas conclusões."
      ]
    },
    {
      "cell_type": "markdown",
      "metadata": {
        "id": "KF44tUBFaJqZ",
        "colab_type": "text"
      },
      "source": [
        "#### 4.1) **(20%)** Análise 1 -  Distribuição dos valores para cada uma das variáveis\n"
      ]
    },
    {
      "cell_type": "markdown",
      "metadata": {
        "id": "KdvYFa1I30fE",
        "colab_type": "text"
      },
      "source": [
        "- Exemplo para variável contínua: se o conjunto de dados possui a variável \"idade\". Quantos % possui a idade entre 0 e 30 anos? 31 a 59? 60+?"
      ]
    },
    {
      "cell_type": "code",
      "metadata": {
        "id": "2HIKMsED12MJ",
        "colab_type": "code",
        "outputId": "eff162d3-148c-40c4-b8b5-08aae83c02e1",
        "colab": {
          "base_uri": "https://localhost:8080/",
          "height": 136
        }
      },
      "source": [
        "#Variável contínua: \"age\" (idade)\n",
        "df[\"age\"].value_counts() / df.shape[0]"
      ],
      "execution_count": 0,
      "outputs": [
        {
          "output_type": "execute_result",
          "data": {
            "text/plain": [
              "35-54 years    0.166858\n",
              "75+ years      0.166858\n",
              "15-24 years    0.166858\n",
              "55-74 years    0.166858\n",
              "25-34 years    0.166858\n",
              "5-14 years     0.165708\n",
              "Name: age, dtype: float64"
            ]
          },
          "metadata": {
            "tags": []
          },
          "execution_count": 19
        }
      ]
    },
    {
      "cell_type": "code",
      "metadata": {
        "colab_type": "code",
        "id": "BuOxNOp5e24R",
        "outputId": "ae85ac48-6bb5-4468-d9b6-f02976038f6e",
        "colab": {
          "base_uri": "https://localhost:8080/",
          "height": 34
        }
      },
      "source": [
        "df.shape[0]"
      ],
      "execution_count": 0,
      "outputs": [
        {
          "output_type": "execute_result",
          "data": {
            "text/plain": [
              "27820"
            ]
          },
          "metadata": {
            "tags": []
          },
          "execution_count": 20
        }
      ]
    },
    {
      "cell_type": "code",
      "metadata": {
        "id": "uifO3-OZ4yhX",
        "colab_type": "code",
        "outputId": "da424bfc-464f-4be4-df83-3811cf559a82",
        "colab": {
          "base_uri": "https://localhost:8080/",
          "height": 332
        }
      },
      "source": [
        "df[\"age\"].value_counts(dropna=False).plot(kind=\"bar\")"
      ],
      "execution_count": 0,
      "outputs": [
        {
          "output_type": "execute_result",
          "data": {
            "text/plain": [
              "<matplotlib.axes._subplots.AxesSubplot at 0x7f8ed3510128>"
            ]
          },
          "metadata": {
            "tags": []
          },
          "execution_count": 21
        },
        {
          "output_type": "display_data",
          "data": {
            "image/png": "[encoded data removed]",
            "text/plain": [
              "<Figure size 432x288 with 1 Axes>"
            ]
          },
          "metadata": {
            "tags": []
          }
        }
      ]
    },
    {
      "cell_type": "markdown",
      "metadata": {
        "id": "fDGHkElv5sKY",
        "colab_type": "text"
      },
      "source": [
        "- Exemplo para variável discreta: se o conjunto de dados possui a variável \"gênero\", quantos % do conjunto de dados é do sexo feminino, quantos % é masculino? Inclua outros gêneros se houver."
      ]
    },
    {
      "cell_type": "code",
      "metadata": {
        "id": "S15cPywx5rP0",
        "colab_type": "code",
        "outputId": "11bdaee1-3cbb-4574-8376-9f512531b6a1",
        "colab": {
          "base_uri": "https://localhost:8080/",
          "height": 85
        }
      },
      "source": [
        "#Variável discreta: \"sex\" (sexo)\n",
        "df.groupby(\"sex\").size() / df.shape[0]"
      ],
      "execution_count": 0,
      "outputs": [
        {
          "output_type": "execute_result",
          "data": {
            "text/plain": [
              "sex\n",
              "female    0.5\n",
              "male      0.5\n",
              "dtype: float64"
            ]
          },
          "metadata": {
            "tags": []
          },
          "execution_count": 22
        }
      ]
    },
    {
      "cell_type": "code",
      "metadata": {
        "id": "Rn-Hm5nr6GdU",
        "colab_type": "code",
        "outputId": "26733e44-4f5e-44ab-96fb-427de182f4c9",
        "colab": {
          "base_uri": "https://localhost:8080/",
          "height": 68
        }
      },
      "source": [
        "pd.value_counts(df['sex'])"
      ],
      "execution_count": 0,
      "outputs": [
        {
          "output_type": "execute_result",
          "data": {
            "text/plain": [
              "female    13910\n",
              "male      13910\n",
              "Name: sex, dtype: int64"
            ]
          },
          "metadata": {
            "tags": []
          },
          "execution_count": 23
        }
      ]
    },
    {
      "cell_type": "code",
      "metadata": {
        "id": "mbpzKQTq6J6D",
        "colab_type": "code",
        "outputId": "ceb7212e-e109-47e3-98b2-e1e8ffbbac48",
        "colab": {
          "base_uri": "https://localhost:8080/",
          "height": 307
        }
      },
      "source": [
        "df[\"sex\"].value_counts(dropna=False).plot(kind=\"bar\")"
      ],
      "execution_count": 0,
      "outputs": [
        {
          "output_type": "execute_result",
          "data": {
            "text/plain": [
              "<matplotlib.axes._subplots.AxesSubplot at 0x7f8ed3651b70>"
            ]
          },
          "metadata": {
            "tags": []
          },
          "execution_count": 24
        },
        {
          "output_type": "display_data",
          "data": {
            "image/png": "[encoded data removed]",
            "text/plain": [
              "<Figure size 432x288 with 1 Axes>"
            ]
          },
          "metadata": {
            "tags": []
          }
        }
      ]
    },
    {
      "cell_type": "markdown",
      "metadata": {
        "id": "QGpgXo_OaJqb",
        "colab_type": "text"
      },
      "source": [
        "#### 4.2) **(20%)** Análise 2 - Dependência entre variáveis\n",
        "O aluno deve apresentar as mesmas distribuições para cada valor da variável dependente. Exemplo: Em um conjunto de dados em que as variáveis independentes são idade e sexo, e a variável dependente é renda. O aluno pode dividir a renda em 3 \"grupos\", <1000 reais, entre 1000 e 10000 reais e >1000 reais. Para cada um desses grupos, é necessário apresentar a distribuição das variáveis \"idade\" e \"sexo\".\n"
      ]
    },
    {
      "cell_type": "code",
      "metadata": {
        "id": "C_BZN6GZLu-c",
        "colab_type": "code",
        "colab": {}
      },
      "source": [
        "#Divisão do \"gdp_per_capita\" (PIB per capta) em 3 \"grupos\". Para cada um desses grupos, será apresentada a distribuição das variáveis \"idade\" e \"sexo\"\n",
        "bins = [251.000000,3446.000,24874.000000,126352.000000]\n",
        "labels = [\"Subdesenvolvido\", \"Em desenvolvimento\", \"Desenvolvido\"]\n",
        "df[\"Status_PIB_per_capta\"] = pd.cut(df[\"gdp_per_capita\"], bins, labels=labels)"
      ],
      "execution_count": 0,
      "outputs": []
    },
    {
      "cell_type": "code",
      "metadata": {
        "id": "cSnUu9b5PWrq",
        "colab_type": "code",
        "outputId": "796cb37f-8249-4624-9a6f-603942eabdcd",
        "colab": {
          "base_uri": "https://localhost:8080/",
          "height": 359
        }
      },
      "source": [
        "df[[\"Status_PIB_per_capta\", \"gdp_per_capita\"]].head(10)"
      ],
      "execution_count": 0,
      "outputs": [
        {
          "output_type": "execute_result",
          "data": {
            "text/html": [
              "<div>\n",
              "<style scoped>\n",
              "    .dataframe tbody tr th:only-of-type {\n",
              "        vertical-align: middle;\n",
              "    }\n",
              "\n",
              "    .dataframe tbody tr th {\n",
              "        vertical-align: top;\n",
              "    }\n",
              "\n",
              "    .dataframe thead th {\n",
              "        text-align: right;\n",
              "    }\n",
              "</style>\n",
              "<table border=\"1\" class=\"dataframe\">\n",
              "  <thead>\n",
              "    <tr style=\"text-align: right;\">\n",
              "      <th></th>\n",
              "      <th>Status_PIB_per_capta</th>\n",
              "      <th>gdp_per_capita</th>\n",
              "    </tr>\n",
              "  </thead>\n",
              "  <tbody>\n",
              "    <tr>\n",
              "      <th>0</th>\n",
              "      <td>Subdesenvolvido</td>\n",
              "      <td>796</td>\n",
              "    </tr>\n",
              "    <tr>\n",
              "      <th>1</th>\n",
              "      <td>Subdesenvolvido</td>\n",
              "      <td>796</td>\n",
              "    </tr>\n",
              "    <tr>\n",
              "      <th>2</th>\n",
              "      <td>Subdesenvolvido</td>\n",
              "      <td>796</td>\n",
              "    </tr>\n",
              "    <tr>\n",
              "      <th>3</th>\n",
              "      <td>Subdesenvolvido</td>\n",
              "      <td>796</td>\n",
              "    </tr>\n",
              "    <tr>\n",
              "      <th>4</th>\n",
              "      <td>Subdesenvolvido</td>\n",
              "      <td>796</td>\n",
              "    </tr>\n",
              "    <tr>\n",
              "      <th>5</th>\n",
              "      <td>Subdesenvolvido</td>\n",
              "      <td>796</td>\n",
              "    </tr>\n",
              "    <tr>\n",
              "      <th>6</th>\n",
              "      <td>Subdesenvolvido</td>\n",
              "      <td>796</td>\n",
              "    </tr>\n",
              "    <tr>\n",
              "      <th>7</th>\n",
              "      <td>Subdesenvolvido</td>\n",
              "      <td>796</td>\n",
              "    </tr>\n",
              "    <tr>\n",
              "      <th>8</th>\n",
              "      <td>Subdesenvolvido</td>\n",
              "      <td>796</td>\n",
              "    </tr>\n",
              "    <tr>\n",
              "      <th>9</th>\n",
              "      <td>Subdesenvolvido</td>\n",
              "      <td>796</td>\n",
              "    </tr>\n",
              "  </tbody>\n",
              "</table>\n",
              "</div>"
            ],
            "text/plain": [
              "  Status_PIB_per_capta  gdp_per_capita\n",
              "0      Subdesenvolvido             796\n",
              "1      Subdesenvolvido             796\n",
              "2      Subdesenvolvido             796\n",
              "3      Subdesenvolvido             796\n",
              "4      Subdesenvolvido             796\n",
              "5      Subdesenvolvido             796\n",
              "6      Subdesenvolvido             796\n",
              "7      Subdesenvolvido             796\n",
              "8      Subdesenvolvido             796\n",
              "9      Subdesenvolvido             796"
            ]
          },
          "metadata": {
            "tags": []
          },
          "execution_count": 26
        }
      ]
    },
    {
      "cell_type": "code",
      "metadata": {
        "id": "1chunCpM8ZjN",
        "colab_type": "code",
        "outputId": "27cfb5dc-3f74-4edc-b96a-8ea7ed4439c6",
        "colab": {
          "base_uri": "https://localhost:8080/",
          "height": 423
        }
      },
      "source": [
        "g = sns.factorplot(\"Status_PIB_per_capta\", \"suicides_no\", \"age\", data=df, kind=\"bar\", palette=\"muted\", legend=False)\n",
        "plt.legend();            \n",
        "plt.show()"
      ],
      "execution_count": 0,
      "outputs": [
        {
          "output_type": "stream",
          "text": [
            "/usr/local/lib/python3.6/dist-packages/seaborn/categorical.py:3666: UserWarning: The `factorplot` function has been renamed to `catplot`. The original name will be removed in a future release. Please update your code. Note that the default `kind` in `factorplot` (`'point'`) has changed `'strip'` in `catplot`.\n",
            "  warnings.warn(msg)\n"
          ],
          "name": "stderr"
        },
        {
          "output_type": "display_data",
          "data": {
            "image/png": "[encoded data removed]",
            "text/plain": [
              "<Figure size 360x360 with 1 Axes>"
            ]
          },
          "metadata": {
            "tags": []
          }
        }
      ]
    },
    {
      "cell_type": "code",
      "metadata": {
        "id": "uTzM0lyyPk-u",
        "colab_type": "code",
        "outputId": "0166addf-c9d2-4ff1-e5e8-af47ccdde584",
        "colab": {
          "base_uri": "https://localhost:8080/",
          "height": 423
        }
      },
      "source": [
        "g = sns.factorplot(\"Status_PIB_per_capta\", \"suicides_no\", \"sex\", data=df, kind=\"bar\", palette=\"muted\", legend=False)            \n",
        "plt.legend()\n",
        "plt.show()"
      ],
      "execution_count": 0,
      "outputs": [
        {
          "output_type": "stream",
          "text": [
            "/usr/local/lib/python3.6/dist-packages/seaborn/categorical.py:3666: UserWarning: The `factorplot` function has been renamed to `catplot`. The original name will be removed in a future release. Please update your code. Note that the default `kind` in `factorplot` (`'point'`) has changed `'strip'` in `catplot`.\n",
            "  warnings.warn(msg)\n"
          ],
          "name": "stderr"
        },
        {
          "output_type": "display_data",
          "data": {
            "image/png": "[encoded data removed]",
            "text/plain": [
              "<Figure size 360x360 with 1 Axes>"
            ]
          },
          "metadata": {
            "tags": []
          }
        }
      ]
    },
    {
      "cell_type": "markdown",
      "metadata": {
        "id": "qocQLqKpaJqd",
        "colab_type": "text"
      },
      "source": [
        "#### 4.3) **(20%)** Análise 3 - Correlação entre variáveis\n",
        "\n",
        "O aluno deve apresentar 3 análises de correlação entre variáveis do conjunto de dados trabalhado. Exemplo: Em um conjunto de dados com as informações de temperatura e ocorrência de incêndios, eu gostaria de saber a incidência de correlação entre as duas variáveis.\n",
        "\n"
      ]
    },
    {
      "cell_type": "code",
      "metadata": {
        "id": "lz_uGM13QXsm",
        "colab_type": "code",
        "outputId": "e619e574-32ef-46bf-b951-c814661691fa",
        "colab": {
          "base_uri": "https://localhost:8080/",
          "height": 235
        }
      },
      "source": [
        "# Análise da correlação das variáveis contínuas\n",
        "df.corr()"
      ],
      "execution_count": 0,
      "outputs": [
        {
          "output_type": "execute_result",
          "data": {
            "text/html": [
              "<div>\n",
              "<style scoped>\n",
              "    .dataframe tbody tr th:only-of-type {\n",
              "        vertical-align: middle;\n",
              "    }\n",
              "\n",
              "    .dataframe tbody tr th {\n",
              "        vertical-align: top;\n",
              "    }\n",
              "\n",
              "    .dataframe thead th {\n",
              "        text-align: right;\n",
              "    }\n",
              "</style>\n",
              "<table border=\"1\" class=\"dataframe\">\n",
              "  <thead>\n",
              "    <tr style=\"text-align: right;\">\n",
              "      <th></th>\n",
              "      <th>year</th>\n",
              "      <th>suicides_no</th>\n",
              "      <th>population</th>\n",
              "      <th>suicides/100k pop</th>\n",
              "      <th>gdp_for_year</th>\n",
              "      <th>gdp_per_capita</th>\n",
              "    </tr>\n",
              "  </thead>\n",
              "  <tbody>\n",
              "    <tr>\n",
              "      <th>year</th>\n",
              "      <td>1.000000</td>\n",
              "      <td>-0.004546</td>\n",
              "      <td>0.008850</td>\n",
              "      <td>-0.039037</td>\n",
              "      <td>0.094529</td>\n",
              "      <td>0.339134</td>\n",
              "    </tr>\n",
              "    <tr>\n",
              "      <th>suicides_no</th>\n",
              "      <td>-0.004546</td>\n",
              "      <td>1.000000</td>\n",
              "      <td>0.616162</td>\n",
              "      <td>0.306604</td>\n",
              "      <td>0.430096</td>\n",
              "      <td>0.061330</td>\n",
              "    </tr>\n",
              "    <tr>\n",
              "      <th>population</th>\n",
              "      <td>0.008850</td>\n",
              "      <td>0.616162</td>\n",
              "      <td>1.000000</td>\n",
              "      <td>0.008285</td>\n",
              "      <td>0.710697</td>\n",
              "      <td>0.081510</td>\n",
              "    </tr>\n",
              "    <tr>\n",
              "      <th>suicides/100k pop</th>\n",
              "      <td>-0.039037</td>\n",
              "      <td>0.306604</td>\n",
              "      <td>0.008285</td>\n",
              "      <td>1.000000</td>\n",
              "      <td>0.025240</td>\n",
              "      <td>0.001785</td>\n",
              "    </tr>\n",
              "    <tr>\n",
              "      <th>gdp_for_year</th>\n",
              "      <td>0.094529</td>\n",
              "      <td>0.430096</td>\n",
              "      <td>0.710697</td>\n",
              "      <td>0.025240</td>\n",
              "      <td>1.000000</td>\n",
              "      <td>0.303405</td>\n",
              "    </tr>\n",
              "    <tr>\n",
              "      <th>gdp_per_capita</th>\n",
              "      <td>0.339134</td>\n",
              "      <td>0.061330</td>\n",
              "      <td>0.081510</td>\n",
              "      <td>0.001785</td>\n",
              "      <td>0.303405</td>\n",
              "      <td>1.000000</td>\n",
              "    </tr>\n",
              "  </tbody>\n",
              "</table>\n",
              "</div>"
            ],
            "text/plain": [
              "                       year  suicides_no  ...  gdp_for_year  gdp_per_capita\n",
              "year               1.000000    -0.004546  ...      0.094529        0.339134\n",
              "suicides_no       -0.004546     1.000000  ...      0.430096        0.061330\n",
              "population         0.008850     0.616162  ...      0.710697        0.081510\n",
              "suicides/100k pop -0.039037     0.306604  ...      0.025240        0.001785\n",
              "gdp_for_year       0.094529     0.430096  ...      1.000000        0.303405\n",
              "gdp_per_capita     0.339134     0.061330  ...      0.303405        1.000000\n",
              "\n",
              "[6 rows x 6 columns]"
            ]
          },
          "metadata": {
            "tags": []
          },
          "execution_count": 29
        }
      ]
    },
    {
      "cell_type": "code",
      "metadata": {
        "id": "AafKKGX5cdcP",
        "colab_type": "code",
        "colab": {}
      },
      "source": [
        "# Análise da correlação das variáveis contínuas e discretas\n",
        "nao_objetos=[c for c in df.columns if df[c].dtypes != \"O\"]"
      ],
      "execution_count": 0,
      "outputs": []
    },
    {
      "cell_type": "code",
      "metadata": {
        "id": "dh4MoU0udMm1",
        "colab_type": "code",
        "colab": {}
      },
      "source": [
        "categoricos = [\"sex\", \"age\", \"generation\", \"Status_PIB_per_capta\" ]\n",
        "dummy = pd.get_dummies(df[nao_objetos+categoricos],columns=categoricos)"
      ],
      "execution_count": 0,
      "outputs": []
    },
    {
      "cell_type": "code",
      "metadata": {
        "id": "1pcmvLOBd-2T",
        "colab_type": "code",
        "outputId": "a8b8b1d0-34b9-4810-95e3-2a2c83112ca3",
        "colab": {
          "base_uri": "https://localhost:8080/",
          "height": 1000
        }
      },
      "source": [
        "dummy.corr()"
      ],
      "execution_count": 0,
      "outputs": [
        {
          "output_type": "execute_result",
          "data": {
            "text/html": [
              "<div>\n",
              "<style scoped>\n",
              "    .dataframe tbody tr th:only-of-type {\n",
              "        vertical-align: middle;\n",
              "    }\n",
              "\n",
              "    .dataframe tbody tr th {\n",
              "        vertical-align: top;\n",
              "    }\n",
              "\n",
              "    .dataframe thead th {\n",
              "        text-align: right;\n",
              "    }\n",
              "</style>\n",
              "<table border=\"1\" class=\"dataframe\">\n",
              "  <thead>\n",
              "    <tr style=\"text-align: right;\">\n",
              "      <th></th>\n",
              "      <th>year</th>\n",
              "      <th>suicides_no</th>\n",
              "      <th>population</th>\n",
              "      <th>suicides/100k pop</th>\n",
              "      <th>gdp_for_year</th>\n",
              "      <th>gdp_per_capita</th>\n",
              "      <th>sex_female</th>\n",
              "      <th>sex_male</th>\n",
              "      <th>age_15-24 years</th>\n",
              "      <th>age_25-34 years</th>\n",
              "      <th>age_35-54 years</th>\n",
              "      <th>age_5-14 years</th>\n",
              "      <th>age_55-74 years</th>\n",
              "      <th>age_75+ years</th>\n",
              "      <th>generation_Boomers</th>\n",
              "      <th>generation_G.I. Generation</th>\n",
              "      <th>generation_Generation X</th>\n",
              "      <th>generation_Generation Z</th>\n",
              "      <th>generation_Millenials</th>\n",
              "      <th>generation_Silent</th>\n",
              "      <th>Status_PIB_per_capta_Subdesenvolvido</th>\n",
              "      <th>Status_PIB_per_capta_Em desenvolvimento</th>\n",
              "      <th>Status_PIB_per_capta_Desenvolvido</th>\n",
              "      <th>Status_PIB_per_capta_Subdesenvolvido</th>\n",
              "      <th>Status_PIB_per_capta_Em desenvolvimento</th>\n",
              "      <th>Status_PIB_per_capta_Desenvolvido</th>\n",
              "    </tr>\n",
              "  </thead>\n",
              "  <tbody>\n",
              "    <tr>\n",
              "      <th>year</th>\n",
              "      <td>1.000000</td>\n",
              "      <td>-0.004546</td>\n",
              "      <td>0.008850</td>\n",
              "      <td>-0.039037</td>\n",
              "      <td>9.452857e-02</td>\n",
              "      <td>3.391343e-01</td>\n",
              "      <td>0.000000e+00</td>\n",
              "      <td>0.000000e+00</td>\n",
              "      <td>8.950069e-04</td>\n",
              "      <td>8.950069e-04</td>\n",
              "      <td>8.950069e-04</td>\n",
              "      <td>-4.487443e-03</td>\n",
              "      <td>8.950069e-04</td>\n",
              "      <td>8.950069e-04</td>\n",
              "      <td>-6.679006e-02</td>\n",
              "      <td>-3.599554e-01</td>\n",
              "      <td>-1.059631e-01</td>\n",
              "      <td>2.663012e-01</td>\n",
              "      <td>2.124942e-01</td>\n",
              "      <td>7.483409e-02</td>\n",
              "      <td>-3.093208e-01</td>\n",
              "      <td>0.050138</td>\n",
              "      <td>0.252318</td>\n",
              "      <td>-3.093208e-01</td>\n",
              "      <td>0.050138</td>\n",
              "      <td>0.252318</td>\n",
              "    </tr>\n",
              "    <tr>\n",
              "      <th>suicides_no</th>\n",
              "      <td>-0.004546</td>\n",
              "      <td>1.000000</td>\n",
              "      <td>0.616162</td>\n",
              "      <td>0.306604</td>\n",
              "      <td>4.300959e-01</td>\n",
              "      <td>6.132975e-02</td>\n",
              "      <td>-1.446292e-01</td>\n",
              "      <td>1.446292e-01</td>\n",
              "      <td>-3.393247e-02</td>\n",
              "      <td>-2.264097e-04</td>\n",
              "      <td>1.417318e-01</td>\n",
              "      <td>-1.142481e-01</td>\n",
              "      <td>5.690311e-02</td>\n",
              "      <td>-5.054385e-02</td>\n",
              "      <td>1.115579e-01</td>\n",
              "      <td>-2.079740e-02</td>\n",
              "      <td>-2.045499e-03</td>\n",
              "      <td>-6.068394e-02</td>\n",
              "      <td>-7.768712e-02</td>\n",
              "      <td>2.257962e-02</td>\n",
              "      <td>-1.108073e-02</td>\n",
              "      <td>-0.070328</td>\n",
              "      <td>0.092574</td>\n",
              "      <td>-1.108073e-02</td>\n",
              "      <td>-0.070328</td>\n",
              "      <td>0.092574</td>\n",
              "    </tr>\n",
              "    <tr>\n",
              "      <th>population</th>\n",
              "      <td>0.008850</td>\n",
              "      <td>0.616162</td>\n",
              "      <td>1.000000</td>\n",
              "      <td>0.008285</td>\n",
              "      <td>7.106973e-01</td>\n",
              "      <td>8.150986e-02</td>\n",
              "      <td>1.124208e-02</td>\n",
              "      <td>-1.124208e-02</td>\n",
              "      <td>1.957244e-03</td>\n",
              "      <td>-3.091283e-03</td>\n",
              "      <td>1.432502e-01</td>\n",
              "      <td>-2.614887e-03</td>\n",
              "      <td>5.907927e-03</td>\n",
              "      <td>-1.454164e-01</td>\n",
              "      <td>9.927819e-02</td>\n",
              "      <td>-9.048053e-02</td>\n",
              "      <td>3.602503e-02</td>\n",
              "      <td>-8.556255e-03</td>\n",
              "      <td>-2.966687e-03</td>\n",
              "      <td>-5.512941e-02</td>\n",
              "      <td>-4.715567e-02</td>\n",
              "      <td>-0.064213</td>\n",
              "      <td>0.121710</td>\n",
              "      <td>-4.715567e-02</td>\n",
              "      <td>-0.064213</td>\n",
              "      <td>0.121710</td>\n",
              "    </tr>\n",
              "    <tr>\n",
              "      <th>suicides/100k pop</th>\n",
              "      <td>-0.039037</td>\n",
              "      <td>0.306604</td>\n",
              "      <td>0.008285</td>\n",
              "      <td>1.000000</td>\n",
              "      <td>2.523964e-02</td>\n",
              "      <td>1.785134e-03</td>\n",
              "      <td>-3.914965e-01</td>\n",
              "      <td>3.914965e-01</td>\n",
              "      <td>-9.131493e-02</td>\n",
              "      <td>-1.485069e-02</td>\n",
              "      <td>5.030404e-02</td>\n",
              "      <td>-2.866600e-01</td>\n",
              "      <td>7.881857e-02</td>\n",
              "      <td>2.629104e-01</td>\n",
              "      <td>4.748842e-02</td>\n",
              "      <td>1.941797e-01</td>\n",
              "      <td>-6.518184e-02</td>\n",
              "      <td>-1.516454e-01</td>\n",
              "      <td>-2.021392e-01</td>\n",
              "      <td>1.609262e-01</td>\n",
              "      <td>6.114344e-03</td>\n",
              "      <td>-0.012801</td>\n",
              "      <td>0.009270</td>\n",
              "      <td>6.114344e-03</td>\n",
              "      <td>-0.012801</td>\n",
              "      <td>0.009270</td>\n",
              "    </tr>\n",
              "    <tr>\n",
              "      <th>gdp_for_year</th>\n",
              "      <td>0.094529</td>\n",
              "      <td>0.430096</td>\n",
              "      <td>0.710697</td>\n",
              "      <td>0.025240</td>\n",
              "      <td>1.000000e+00</td>\n",
              "      <td>3.034045e-01</td>\n",
              "      <td>7.757932e-19</td>\n",
              "      <td>-7.757932e-19</td>\n",
              "      <td>-9.294363e-05</td>\n",
              "      <td>-9.294363e-05</td>\n",
              "      <td>-9.294363e-05</td>\n",
              "      <td>4.660067e-04</td>\n",
              "      <td>-9.294363e-05</td>\n",
              "      <td>-9.294363e-05</td>\n",
              "      <td>-5.152816e-03</td>\n",
              "      <td>-3.073453e-02</td>\n",
              "      <td>-1.056527e-02</td>\n",
              "      <td>3.259000e-02</td>\n",
              "      <td>1.680451e-02</td>\n",
              "      <td>3.460061e-03</td>\n",
              "      <td>-1.614511e-01</td>\n",
              "      <td>-0.153957</td>\n",
              "      <td>0.339497</td>\n",
              "      <td>-1.614511e-01</td>\n",
              "      <td>-0.153957</td>\n",
              "      <td>0.339497</td>\n",
              "    </tr>\n",
              "    <tr>\n",
              "      <th>gdp_per_capita</th>\n",
              "      <td>0.339134</td>\n",
              "      <td>0.061330</td>\n",
              "      <td>0.081510</td>\n",
              "      <td>0.001785</td>\n",
              "      <td>3.034045e-01</td>\n",
              "      <td>1.000000e+00</td>\n",
              "      <td>-1.336263e-18</td>\n",
              "      <td>1.336263e-18</td>\n",
              "      <td>2.395280e-04</td>\n",
              "      <td>2.395280e-04</td>\n",
              "      <td>2.395280e-04</td>\n",
              "      <td>-1.200961e-03</td>\n",
              "      <td>2.395280e-04</td>\n",
              "      <td>2.395280e-04</td>\n",
              "      <td>-2.189326e-02</td>\n",
              "      <td>-1.133715e-01</td>\n",
              "      <td>-3.653864e-02</td>\n",
              "      <td>1.096130e-01</td>\n",
              "      <td>5.963457e-02</td>\n",
              "      <td>2.088847e-02</td>\n",
              "      <td>-4.586527e-01</td>\n",
              "      <td>-0.309015</td>\n",
              "      <td>0.816204</td>\n",
              "      <td>-4.586527e-01</td>\n",
              "      <td>-0.309015</td>\n",
              "      <td>0.816204</td>\n",
              "    </tr>\n",
              "    <tr>\n",
              "      <th>sex_female</th>\n",
              "      <td>0.000000</td>\n",
              "      <td>-0.144629</td>\n",
              "      <td>0.011242</td>\n",
              "      <td>-0.391496</td>\n",
              "      <td>7.757932e-19</td>\n",
              "      <td>-1.336263e-18</td>\n",
              "      <td>1.000000e+00</td>\n",
              "      <td>-1.000000e+00</td>\n",
              "      <td>-1.022705e-17</td>\n",
              "      <td>-2.574155e-18</td>\n",
              "      <td>-4.441890e-19</td>\n",
              "      <td>-3.539215e-18</td>\n",
              "      <td>-1.155962e-18</td>\n",
              "      <td>-1.659019e-19</td>\n",
              "      <td>-2.704459e-19</td>\n",
              "      <td>-2.191646e-18</td>\n",
              "      <td>-6.966389e-19</td>\n",
              "      <td>3.344741e-20</td>\n",
              "      <td>9.027680e-18</td>\n",
              "      <td>2.992825e-19</td>\n",
              "      <td>1.844926e-20</td>\n",
              "      <td>0.000000</td>\n",
              "      <td>0.000000</td>\n",
              "      <td>1.844926e-20</td>\n",
              "      <td>0.000000</td>\n",
              "      <td>0.000000</td>\n",
              "    </tr>\n",
              "    <tr>\n",
              "      <th>sex_male</th>\n",
              "      <td>0.000000</td>\n",
              "      <td>0.144629</td>\n",
              "      <td>-0.011242</td>\n",
              "      <td>0.391496</td>\n",
              "      <td>-7.757932e-19</td>\n",
              "      <td>1.336263e-18</td>\n",
              "      <td>-1.000000e+00</td>\n",
              "      <td>1.000000e+00</td>\n",
              "      <td>1.022705e-17</td>\n",
              "      <td>2.574155e-18</td>\n",
              "      <td>4.441890e-19</td>\n",
              "      <td>3.539215e-18</td>\n",
              "      <td>1.155962e-18</td>\n",
              "      <td>1.659019e-19</td>\n",
              "      <td>2.704459e-19</td>\n",
              "      <td>2.191646e-18</td>\n",
              "      <td>6.966389e-19</td>\n",
              "      <td>-3.344741e-20</td>\n",
              "      <td>-9.027680e-18</td>\n",
              "      <td>-2.992825e-19</td>\n",
              "      <td>-1.844926e-20</td>\n",
              "      <td>0.000000</td>\n",
              "      <td>0.000000</td>\n",
              "      <td>-1.844926e-20</td>\n",
              "      <td>0.000000</td>\n",
              "      <td>0.000000</td>\n",
              "    </tr>\n",
              "    <tr>\n",
              "      <th>age_15-24 years</th>\n",
              "      <td>0.000895</td>\n",
              "      <td>-0.033932</td>\n",
              "      <td>0.001957</td>\n",
              "      <td>-0.091315</td>\n",
              "      <td>-9.294363e-05</td>\n",
              "      <td>2.395280e-04</td>\n",
              "      <td>-1.022705e-17</td>\n",
              "      <td>1.022705e-17</td>\n",
              "      <td>1.000000e+00</td>\n",
              "      <td>-2.002761e-01</td>\n",
              "      <td>-2.002761e-01</td>\n",
              "      <td>-1.994470e-01</td>\n",
              "      <td>-2.002761e-01</td>\n",
              "      <td>-2.002761e-01</td>\n",
              "      <td>-2.092242e-01</td>\n",
              "      <td>-1.480395e-01</td>\n",
              "      <td>2.392203e-01</td>\n",
              "      <td>-1.057019e-01</td>\n",
              "      <td>3.675149e-01</td>\n",
              "      <td>-2.437279e-01</td>\n",
              "      <td>-2.963165e-04</td>\n",
              "      <td>0.000128</td>\n",
              "      <td>0.000149</td>\n",
              "      <td>-2.963165e-04</td>\n",
              "      <td>0.000128</td>\n",
              "      <td>0.000149</td>\n",
              "    </tr>\n",
              "    <tr>\n",
              "      <th>age_25-34 years</th>\n",
              "      <td>0.000895</td>\n",
              "      <td>-0.000226</td>\n",
              "      <td>-0.003091</td>\n",
              "      <td>-0.014851</td>\n",
              "      <td>-9.294363e-05</td>\n",
              "      <td>2.395280e-04</td>\n",
              "      <td>-2.574155e-18</td>\n",
              "      <td>2.574155e-18</td>\n",
              "      <td>-2.002761e-01</td>\n",
              "      <td>1.000000e+00</td>\n",
              "      <td>-2.002761e-01</td>\n",
              "      <td>-1.994470e-01</td>\n",
              "      <td>-2.002761e-01</td>\n",
              "      <td>-2.002761e-01</td>\n",
              "      <td>8.075655e-02</td>\n",
              "      <td>-1.480395e-01</td>\n",
              "      <td>3.692747e-01</td>\n",
              "      <td>-1.057019e-01</td>\n",
              "      <td>-4.002515e-02</td>\n",
              "      <td>-2.437279e-01</td>\n",
              "      <td>-2.963165e-04</td>\n",
              "      <td>0.000128</td>\n",
              "      <td>0.000149</td>\n",
              "      <td>-2.963165e-04</td>\n",
              "      <td>0.000128</td>\n",
              "      <td>0.000149</td>\n",
              "    </tr>\n",
              "    <tr>\n",
              "      <th>age_35-54 years</th>\n",
              "      <td>0.000895</td>\n",
              "      <td>0.141732</td>\n",
              "      <td>0.143250</td>\n",
              "      <td>0.050304</td>\n",
              "      <td>-9.294363e-05</td>\n",
              "      <td>2.395280e-04</td>\n",
              "      <td>-4.441890e-19</td>\n",
              "      <td>4.441890e-19</td>\n",
              "      <td>-2.002761e-01</td>\n",
              "      <td>-2.002761e-01</td>\n",
              "      <td>1.000000e+00</td>\n",
              "      <td>-1.994470e-01</td>\n",
              "      <td>-2.002761e-01</td>\n",
              "      <td>-2.002761e-01</td>\n",
              "      <td>5.521637e-01</td>\n",
              "      <td>-1.480395e-01</td>\n",
              "      <td>-1.997262e-02</td>\n",
              "      <td>-1.057019e-01</td>\n",
              "      <td>-2.307785e-01</td>\n",
              "      <td>-9.912814e-02</td>\n",
              "      <td>-2.963165e-04</td>\n",
              "      <td>0.000128</td>\n",
              "      <td>0.000149</td>\n",
              "      <td>-2.963165e-04</td>\n",
              "      <td>0.000128</td>\n",
              "      <td>0.000149</td>\n",
              "    </tr>\n",
              "    <tr>\n",
              "      <th>age_5-14 years</th>\n",
              "      <td>-0.004487</td>\n",
              "      <td>-0.114248</td>\n",
              "      <td>-0.002615</td>\n",
              "      <td>-0.286660</td>\n",
              "      <td>4.660067e-04</td>\n",
              "      <td>-1.200961e-03</td>\n",
              "      <td>-3.539215e-18</td>\n",
              "      <td>3.539215e-18</td>\n",
              "      <td>-1.994470e-01</td>\n",
              "      <td>-1.994470e-01</td>\n",
              "      <td>-1.994470e-01</td>\n",
              "      <td>1.000000e+00</td>\n",
              "      <td>-1.994470e-01</td>\n",
              "      <td>-1.994470e-01</td>\n",
              "      <td>-2.083580e-01</td>\n",
              "      <td>-1.474266e-01</td>\n",
              "      <td>-9.915619e-02</td>\n",
              "      <td>5.299751e-01</td>\n",
              "      <td>3.658574e-01</td>\n",
              "      <td>-2.427189e-01</td>\n",
              "      <td>1.485691e-03</td>\n",
              "      <td>-0.000642</td>\n",
              "      <td>-0.000746</td>\n",
              "      <td>1.485691e-03</td>\n",
              "      <td>-0.000642</td>\n",
              "      <td>-0.000746</td>\n",
              "    </tr>\n",
              "    <tr>\n",
              "      <th>age_55-74 years</th>\n",
              "      <td>0.000895</td>\n",
              "      <td>0.056903</td>\n",
              "      <td>0.005908</td>\n",
              "      <td>0.078819</td>\n",
              "      <td>-9.294363e-05</td>\n",
              "      <td>2.395280e-04</td>\n",
              "      <td>-1.155962e-18</td>\n",
              "      <td>1.155962e-18</td>\n",
              "      <td>-2.002761e-01</td>\n",
              "      <td>-2.002761e-01</td>\n",
              "      <td>-2.002761e-01</td>\n",
              "      <td>-1.994470e-01</td>\n",
              "      <td>1.000000e+00</td>\n",
              "      <td>-2.002761e-01</td>\n",
              "      <td>-6.689985e-03</td>\n",
              "      <td>5.565815e-02</td>\n",
              "      <td>-2.448202e-01</td>\n",
              "      <td>-1.057019e-01</td>\n",
              "      <td>-2.307785e-01</td>\n",
              "      <td>4.921243e-01</td>\n",
              "      <td>-2.963165e-04</td>\n",
              "      <td>0.000128</td>\n",
              "      <td>0.000149</td>\n",
              "      <td>-2.963165e-04</td>\n",
              "      <td>0.000128</td>\n",
              "      <td>0.000149</td>\n",
              "    </tr>\n",
              "    <tr>\n",
              "      <th>age_75+ years</th>\n",
              "      <td>0.000895</td>\n",
              "      <td>-0.050544</td>\n",
              "      <td>-0.145416</td>\n",
              "      <td>0.262910</td>\n",
              "      <td>-9.294363e-05</td>\n",
              "      <td>2.395280e-04</td>\n",
              "      <td>-1.659019e-19</td>\n",
              "      <td>1.659019e-19</td>\n",
              "      <td>-2.002761e-01</td>\n",
              "      <td>-2.002761e-01</td>\n",
              "      <td>-2.002761e-01</td>\n",
              "      <td>-1.994470e-01</td>\n",
              "      <td>-2.002761e-01</td>\n",
              "      <td>1.000000e+00</td>\n",
              "      <td>-2.092242e-01</td>\n",
              "      <td>5.354792e-01</td>\n",
              "      <td>-2.448202e-01</td>\n",
              "      <td>-1.057019e-01</td>\n",
              "      <td>-2.307785e-01</td>\n",
              "      <td>3.365074e-01</td>\n",
              "      <td>-2.963165e-04</td>\n",
              "      <td>0.000128</td>\n",
              "      <td>0.000149</td>\n",
              "      <td>-2.963165e-04</td>\n",
              "      <td>0.000128</td>\n",
              "      <td>0.000149</td>\n",
              "    </tr>\n",
              "    <tr>\n",
              "      <th>generation_Boomers</th>\n",
              "      <td>-0.066790</td>\n",
              "      <td>0.111558</td>\n",
              "      <td>0.099278</td>\n",
              "      <td>0.047488</td>\n",
              "      <td>-5.152816e-03</td>\n",
              "      <td>-2.189326e-02</td>\n",
              "      <td>-2.704459e-19</td>\n",
              "      <td>2.704459e-19</td>\n",
              "      <td>-2.092242e-01</td>\n",
              "      <td>8.075655e-02</td>\n",
              "      <td>5.521637e-01</td>\n",
              "      <td>-2.083580e-01</td>\n",
              "      <td>-6.689985e-03</td>\n",
              "      <td>-2.092242e-01</td>\n",
              "      <td>1.000000e+00</td>\n",
              "      <td>-1.546537e-01</td>\n",
              "      <td>-2.557584e-01</td>\n",
              "      <td>-1.104246e-01</td>\n",
              "      <td>-2.410894e-01</td>\n",
              "      <td>-2.546174e-01</td>\n",
              "      <td>2.163678e-02</td>\n",
              "      <td>-0.005905</td>\n",
              "      <td>-0.015204</td>\n",
              "      <td>2.163678e-02</td>\n",
              "      <td>-0.005905</td>\n",
              "      <td>-0.015204</td>\n",
              "    </tr>\n",
              "    <tr>\n",
              "      <th>generation_G.I. Generation</th>\n",
              "      <td>-0.359955</td>\n",
              "      <td>-0.020797</td>\n",
              "      <td>-0.090481</td>\n",
              "      <td>0.194180</td>\n",
              "      <td>-3.073453e-02</td>\n",
              "      <td>-1.133715e-01</td>\n",
              "      <td>-2.191646e-18</td>\n",
              "      <td>2.191646e-18</td>\n",
              "      <td>-1.480395e-01</td>\n",
              "      <td>-1.480395e-01</td>\n",
              "      <td>-1.480395e-01</td>\n",
              "      <td>-1.474266e-01</td>\n",
              "      <td>5.565815e-02</td>\n",
              "      <td>5.354792e-01</td>\n",
              "      <td>-1.546537e-01</td>\n",
              "      <td>1.000000e+00</td>\n",
              "      <td>-1.809654e-01</td>\n",
              "      <td>-7.813242e-02</td>\n",
              "      <td>-1.705861e-01</td>\n",
              "      <td>-1.801580e-01</td>\n",
              "      <td>1.041837e-01</td>\n",
              "      <td>-0.009977</td>\n",
              "      <td>-0.092826</td>\n",
              "      <td>1.041837e-01</td>\n",
              "      <td>-0.009977</td>\n",
              "      <td>-0.092826</td>\n",
              "    </tr>\n",
              "    <tr>\n",
              "      <th>generation_Generation X</th>\n",
              "      <td>-0.105963</td>\n",
              "      <td>-0.002045</td>\n",
              "      <td>0.036025</td>\n",
              "      <td>-0.065182</td>\n",
              "      <td>-1.056527e-02</td>\n",
              "      <td>-3.653864e-02</td>\n",
              "      <td>-6.966389e-19</td>\n",
              "      <td>6.966389e-19</td>\n",
              "      <td>2.392203e-01</td>\n",
              "      <td>3.692747e-01</td>\n",
              "      <td>-1.997262e-02</td>\n",
              "      <td>-9.915619e-02</td>\n",
              "      <td>-2.448202e-01</td>\n",
              "      <td>-2.448202e-01</td>\n",
              "      <td>-2.557584e-01</td>\n",
              "      <td>-1.809654e-01</td>\n",
              "      <td>1.000000e+00</td>\n",
              "      <td>-1.292114e-01</td>\n",
              "      <td>-2.821067e-01</td>\n",
              "      <td>-2.979362e-01</td>\n",
              "      <td>3.322669e-02</td>\n",
              "      <td>-0.004990</td>\n",
              "      <td>-0.027293</td>\n",
              "      <td>3.322669e-02</td>\n",
              "      <td>-0.004990</td>\n",
              "      <td>-0.027293</td>\n",
              "    </tr>\n",
              "    <tr>\n",
              "      <th>generation_Generation Z</th>\n",
              "      <td>0.266301</td>\n",
              "      <td>-0.060684</td>\n",
              "      <td>-0.008556</td>\n",
              "      <td>-0.151645</td>\n",
              "      <td>3.259000e-02</td>\n",
              "      <td>1.096130e-01</td>\n",
              "      <td>3.344741e-20</td>\n",
              "      <td>-3.344741e-20</td>\n",
              "      <td>-1.057019e-01</td>\n",
              "      <td>-1.057019e-01</td>\n",
              "      <td>-1.057019e-01</td>\n",
              "      <td>5.299751e-01</td>\n",
              "      <td>-1.057019e-01</td>\n",
              "      <td>-1.057019e-01</td>\n",
              "      <td>-1.104246e-01</td>\n",
              "      <td>-7.813242e-02</td>\n",
              "      <td>-1.292114e-01</td>\n",
              "      <td>1.000000e+00</td>\n",
              "      <td>-1.218005e-01</td>\n",
              "      <td>-1.286350e-01</td>\n",
              "      <td>-9.674932e-02</td>\n",
              "      <td>0.025149</td>\n",
              "      <td>0.067879</td>\n",
              "      <td>-9.674932e-02</td>\n",
              "      <td>0.025149</td>\n",
              "      <td>0.067879</td>\n",
              "    </tr>\n",
              "    <tr>\n",
              "      <th>generation_Millenials</th>\n",
              "      <td>0.212494</td>\n",
              "      <td>-0.077687</td>\n",
              "      <td>-0.002967</td>\n",
              "      <td>-0.202139</td>\n",
              "      <td>1.680451e-02</td>\n",
              "      <td>5.963457e-02</td>\n",
              "      <td>9.027680e-18</td>\n",
              "      <td>-9.027680e-18</td>\n",
              "      <td>3.675149e-01</td>\n",
              "      <td>-4.002515e-02</td>\n",
              "      <td>-2.307785e-01</td>\n",
              "      <td>3.658574e-01</td>\n",
              "      <td>-2.307785e-01</td>\n",
              "      <td>-2.307785e-01</td>\n",
              "      <td>-2.410894e-01</td>\n",
              "      <td>-1.705861e-01</td>\n",
              "      <td>-2.821067e-01</td>\n",
              "      <td>-1.218005e-01</td>\n",
              "      <td>1.000000e+00</td>\n",
              "      <td>-2.808481e-01</td>\n",
              "      <td>-5.568560e-02</td>\n",
              "      <td>0.004070</td>\n",
              "      <td>0.051059</td>\n",
              "      <td>-5.568560e-02</td>\n",
              "      <td>0.004070</td>\n",
              "      <td>0.051059</td>\n",
              "    </tr>\n",
              "    <tr>\n",
              "      <th>generation_Silent</th>\n",
              "      <td>0.074834</td>\n",
              "      <td>0.022580</td>\n",
              "      <td>-0.055129</td>\n",
              "      <td>0.160926</td>\n",
              "      <td>3.460061e-03</td>\n",
              "      <td>2.088847e-02</td>\n",
              "      <td>2.992825e-19</td>\n",
              "      <td>-2.992825e-19</td>\n",
              "      <td>-2.437279e-01</td>\n",
              "      <td>-2.437279e-01</td>\n",
              "      <td>-9.912814e-02</td>\n",
              "      <td>-2.427189e-01</td>\n",
              "      <td>4.921243e-01</td>\n",
              "      <td>3.365074e-01</td>\n",
              "      <td>-2.546174e-01</td>\n",
              "      <td>-1.801580e-01</td>\n",
              "      <td>-2.979362e-01</td>\n",
              "      <td>-1.286350e-01</td>\n",
              "      <td>-2.808481e-01</td>\n",
              "      <td>1.000000e+00</td>\n",
              "      <td>-2.149317e-02</td>\n",
              "      <td>0.000136</td>\n",
              "      <td>0.021470</td>\n",
              "      <td>-2.149317e-02</td>\n",
              "      <td>0.000136</td>\n",
              "      <td>0.021470</td>\n",
              "    </tr>\n",
              "    <tr>\n",
              "      <th>Status_PIB_per_capta_Subdesenvolvido</th>\n",
              "      <td>-0.309321</td>\n",
              "      <td>-0.011081</td>\n",
              "      <td>-0.047156</td>\n",
              "      <td>0.006114</td>\n",
              "      <td>-1.614511e-01</td>\n",
              "      <td>-4.586527e-01</td>\n",
              "      <td>1.844926e-20</td>\n",
              "      <td>-1.844926e-20</td>\n",
              "      <td>-2.963165e-04</td>\n",
              "      <td>-2.963165e-04</td>\n",
              "      <td>-2.963165e-04</td>\n",
              "      <td>1.485691e-03</td>\n",
              "      <td>-2.963165e-04</td>\n",
              "      <td>-2.963165e-04</td>\n",
              "      <td>2.163678e-02</td>\n",
              "      <td>1.041837e-01</td>\n",
              "      <td>3.322669e-02</td>\n",
              "      <td>-9.674932e-02</td>\n",
              "      <td>-5.568560e-02</td>\n",
              "      <td>-2.149317e-02</td>\n",
              "      <td>1.000000e+00</td>\n",
              "      <td>-0.576879</td>\n",
              "      <td>-0.332503</td>\n",
              "      <td>1.000000e+00</td>\n",
              "      <td>-0.576879</td>\n",
              "      <td>-0.332503</td>\n",
              "    </tr>\n",
              "    <tr>\n",
              "      <th>Status_PIB_per_capta_Em desenvolvimento</th>\n",
              "      <td>0.050138</td>\n",
              "      <td>-0.070328</td>\n",
              "      <td>-0.064213</td>\n",
              "      <td>-0.012801</td>\n",
              "      <td>-1.539571e-01</td>\n",
              "      <td>-3.090146e-01</td>\n",
              "      <td>0.000000e+00</td>\n",
              "      <td>0.000000e+00</td>\n",
              "      <td>1.280255e-04</td>\n",
              "      <td>1.280255e-04</td>\n",
              "      <td>1.280255e-04</td>\n",
              "      <td>-6.419024e-04</td>\n",
              "      <td>1.280255e-04</td>\n",
              "      <td>1.280255e-04</td>\n",
              "      <td>-5.904609e-03</td>\n",
              "      <td>-9.977201e-03</td>\n",
              "      <td>-4.989889e-03</td>\n",
              "      <td>2.514910e-02</td>\n",
              "      <td>4.069519e-03</td>\n",
              "      <td>1.364814e-04</td>\n",
              "      <td>-5.768791e-01</td>\n",
              "      <td>1.000000</td>\n",
              "      <td>-0.577544</td>\n",
              "      <td>-5.768791e-01</td>\n",
              "      <td>1.000000</td>\n",
              "      <td>-0.577544</td>\n",
              "    </tr>\n",
              "    <tr>\n",
              "      <th>Status_PIB_per_capta_Desenvolvido</th>\n",
              "      <td>0.252318</td>\n",
              "      <td>0.092574</td>\n",
              "      <td>0.121710</td>\n",
              "      <td>0.009270</td>\n",
              "      <td>3.394970e-01</td>\n",
              "      <td>8.162038e-01</td>\n",
              "      <td>0.000000e+00</td>\n",
              "      <td>0.000000e+00</td>\n",
              "      <td>1.487773e-04</td>\n",
              "      <td>1.487773e-04</td>\n",
              "      <td>1.487773e-04</td>\n",
              "      <td>-7.459492e-04</td>\n",
              "      <td>1.487773e-04</td>\n",
              "      <td>1.487773e-04</td>\n",
              "      <td>-1.520386e-02</td>\n",
              "      <td>-9.282646e-02</td>\n",
              "      <td>-2.729308e-02</td>\n",
              "      <td>6.787946e-02</td>\n",
              "      <td>5.105899e-02</td>\n",
              "      <td>2.147043e-02</td>\n",
              "      <td>-3.325030e-01</td>\n",
              "      <td>-0.577544</td>\n",
              "      <td>1.000000</td>\n",
              "      <td>-3.325030e-01</td>\n",
              "      <td>-0.577544</td>\n",
              "      <td>1.000000</td>\n",
              "    </tr>\n",
              "    <tr>\n",
              "      <th>Status_PIB_per_capta_Subdesenvolvido</th>\n",
              "      <td>-0.309321</td>\n",
              "      <td>-0.011081</td>\n",
              "      <td>-0.047156</td>\n",
              "      <td>0.006114</td>\n",
              "      <td>-1.614511e-01</td>\n",
              "      <td>-4.586527e-01</td>\n",
              "      <td>1.844926e-20</td>\n",
              "      <td>-1.844926e-20</td>\n",
              "      <td>-2.963165e-04</td>\n",
              "      <td>-2.963165e-04</td>\n",
              "      <td>-2.963165e-04</td>\n",
              "      <td>1.485691e-03</td>\n",
              "      <td>-2.963165e-04</td>\n",
              "      <td>-2.963165e-04</td>\n",
              "      <td>2.163678e-02</td>\n",
              "      <td>1.041837e-01</td>\n",
              "      <td>3.322669e-02</td>\n",
              "      <td>-9.674932e-02</td>\n",
              "      <td>-5.568560e-02</td>\n",
              "      <td>-2.149317e-02</td>\n",
              "      <td>1.000000e+00</td>\n",
              "      <td>-0.576879</td>\n",
              "      <td>-0.332503</td>\n",
              "      <td>1.000000e+00</td>\n",
              "      <td>-0.576879</td>\n",
              "      <td>-0.332503</td>\n",
              "    </tr>\n",
              "    <tr>\n",
              "      <th>Status_PIB_per_capta_Em desenvolvimento</th>\n",
              "      <td>0.050138</td>\n",
              "      <td>-0.070328</td>\n",
              "      <td>-0.064213</td>\n",
              "      <td>-0.012801</td>\n",
              "      <td>-1.539571e-01</td>\n",
              "      <td>-3.090146e-01</td>\n",
              "      <td>0.000000e+00</td>\n",
              "      <td>0.000000e+00</td>\n",
              "      <td>1.280255e-04</td>\n",
              "      <td>1.280255e-04</td>\n",
              "      <td>1.280255e-04</td>\n",
              "      <td>-6.419024e-04</td>\n",
              "      <td>1.280255e-04</td>\n",
              "      <td>1.280255e-04</td>\n",
              "      <td>-5.904609e-03</td>\n",
              "      <td>-9.977201e-03</td>\n",
              "      <td>-4.989889e-03</td>\n",
              "      <td>2.514910e-02</td>\n",
              "      <td>4.069519e-03</td>\n",
              "      <td>1.364814e-04</td>\n",
              "      <td>-5.768791e-01</td>\n",
              "      <td>1.000000</td>\n",
              "      <td>-0.577544</td>\n",
              "      <td>-5.768791e-01</td>\n",
              "      <td>1.000000</td>\n",
              "      <td>-0.577544</td>\n",
              "    </tr>\n",
              "    <tr>\n",
              "      <th>Status_PIB_per_capta_Desenvolvido</th>\n",
              "      <td>0.252318</td>\n",
              "      <td>0.092574</td>\n",
              "      <td>0.121710</td>\n",
              "      <td>0.009270</td>\n",
              "      <td>3.394970e-01</td>\n",
              "      <td>8.162038e-01</td>\n",
              "      <td>0.000000e+00</td>\n",
              "      <td>0.000000e+00</td>\n",
              "      <td>1.487773e-04</td>\n",
              "      <td>1.487773e-04</td>\n",
              "      <td>1.487773e-04</td>\n",
              "      <td>-7.459492e-04</td>\n",
              "      <td>1.487773e-04</td>\n",
              "      <td>1.487773e-04</td>\n",
              "      <td>-1.520386e-02</td>\n",
              "      <td>-9.282646e-02</td>\n",
              "      <td>-2.729308e-02</td>\n",
              "      <td>6.787946e-02</td>\n",
              "      <td>5.105899e-02</td>\n",
              "      <td>2.147043e-02</td>\n",
              "      <td>-3.325030e-01</td>\n",
              "      <td>-0.577544</td>\n",
              "      <td>1.000000</td>\n",
              "      <td>-3.325030e-01</td>\n",
              "      <td>-0.577544</td>\n",
              "      <td>1.000000</td>\n",
              "    </tr>\n",
              "  </tbody>\n",
              "</table>\n",
              "</div>"
            ],
            "text/plain": [
              "                                             year  ...  Status_PIB_per_capta_Desenvolvido\n",
              "year                                     1.000000  ...                           0.252318\n",
              "suicides_no                             -0.004546  ...                           0.092574\n",
              "population                               0.008850  ...                           0.121710\n",
              "suicides/100k pop                       -0.039037  ...                           0.009270\n",
              "gdp_for_year                             0.094529  ...                           0.339497\n",
              "gdp_per_capita                           0.339134  ...                           0.816204\n",
              "sex_female                               0.000000  ...                           0.000000\n",
              "sex_male                                 0.000000  ...                           0.000000\n",
              "age_15-24 years                          0.000895  ...                           0.000149\n",
              "age_25-34 years                          0.000895  ...                           0.000149\n",
              "age_35-54 years                          0.000895  ...                           0.000149\n",
              "age_5-14 years                          -0.004487  ...                          -0.000746\n",
              "age_55-74 years                          0.000895  ...                           0.000149\n",
              "age_75+ years                            0.000895  ...                           0.000149\n",
              "generation_Boomers                      -0.066790  ...                          -0.015204\n",
              "generation_G.I. Generation              -0.359955  ...                          -0.092826\n",
              "generation_Generation X                 -0.105963  ...                          -0.027293\n",
              "generation_Generation Z                  0.266301  ...                           0.067879\n",
              "generation_Millenials                    0.212494  ...                           0.051059\n",
              "generation_Silent                        0.074834  ...                           0.021470\n",
              "Status_PIB_per_capta_Subdesenvolvido    -0.309321  ...                          -0.332503\n",
              "Status_PIB_per_capta_Em desenvolvimento  0.050138  ...                          -0.577544\n",
              "Status_PIB_per_capta_Desenvolvido        0.252318  ...                           1.000000\n",
              "Status_PIB_per_capta_Subdesenvolvido    -0.309321  ...                          -0.332503\n",
              "Status_PIB_per_capta_Em desenvolvimento  0.050138  ...                          -0.577544\n",
              "Status_PIB_per_capta_Desenvolvido        0.252318  ...                           1.000000\n",
              "\n",
              "[26 rows x 26 columns]"
            ]
          },
          "metadata": {
            "tags": []
          },
          "execution_count": 32
        }
      ]
    },
    {
      "cell_type": "code",
      "metadata": {
        "id": "tIc5QzvsT-UZ",
        "colab_type": "code",
        "outputId": "e15b3e51-ca1b-4bc7-cca7-4292c749d41c",
        "colab": {
          "base_uri": "https://localhost:8080/",
          "height": 463
        }
      },
      "source": [
        "# Primeiro par de variáveis: \"suicides_no\" x \"age\"\n",
        "g = sns.factorplot(\"age\", \"suicides_no\", data=df, kind=\"bar\", palette=\"muted\", legend=False) \n",
        "g.set_xticklabels(rotation=45)\n",
        "plt.show()"
      ],
      "execution_count": 0,
      "outputs": [
        {
          "output_type": "stream",
          "text": [
            "/usr/local/lib/python3.6/dist-packages/seaborn/categorical.py:3666: UserWarning: The `factorplot` function has been renamed to `catplot`. The original name will be removed in a future release. Please update your code. Note that the default `kind` in `factorplot` (`'point'`) has changed `'strip'` in `catplot`.\n",
            "  warnings.warn(msg)\n"
          ],
          "name": "stderr"
        },
        {
          "output_type": "display_data",
          "data": {
            "image/png": "[encoded data removed]",
            "text/plain": [
              "<Figure size 360x360 with 1 Axes>"
            ]
          },
          "metadata": {
            "tags": []
          }
        }
      ]
    },
    {
      "cell_type": "code",
      "metadata": {
        "id": "--cLp0mJX0iD",
        "colab_type": "code",
        "outputId": "66858159-d561-45c7-8b59-6fe61800f9cc",
        "colab": {
          "base_uri": "https://localhost:8080/",
          "height": 423
        }
      },
      "source": [
        "# Segundo par de variáveis: \"suicides_no\" x \"sex\"\n",
        "g = sns.factorplot(\"sex\", \"suicides_no\", data=df, kind=\"bar\", palette=\"muted\", legend=False) \n",
        "plt.show()"
      ],
      "execution_count": 0,
      "outputs": [
        {
          "output_type": "stream",
          "text": [
            "/usr/local/lib/python3.6/dist-packages/seaborn/categorical.py:3666: UserWarning: The `factorplot` function has been renamed to `catplot`. The original name will be removed in a future release. Please update your code. Note that the default `kind` in `factorplot` (`'point'`) has changed `'strip'` in `catplot`.\n",
            "  warnings.warn(msg)\n"
          ],
          "name": "stderr"
        },
        {
          "output_type": "display_data",
          "data": {
            "image/png": "[encoded data removed]",
            "text/plain": [
              "<Figure size 360x360 with 1 Axes>"
            ]
          },
          "metadata": {
            "tags": []
          }
        }
      ]
    },
    {
      "cell_type": "code",
      "metadata": {
        "id": "HUdJNK8RryQZ",
        "colab_type": "code",
        "outputId": "74977e59-edcb-4f36-b28d-8c6a311a6b76",
        "colab": {
          "base_uri": "https://localhost:8080/",
          "height": 423
        }
      },
      "source": [
        "# Terceiro grupo de variáveis: \"Status_PIB_per_capta\" x \"suicides_no\"c\n",
        "g = sns.factorplot(\"Status_PIB_per_capta\", \"suicides_no\", data=df, kind=\"bar\", palette=\"muted\", legend=False) \n",
        "plt.show()\n"
      ],
      "execution_count": 0,
      "outputs": [
        {
          "output_type": "stream",
          "text": [
            "/usr/local/lib/python3.6/dist-packages/seaborn/categorical.py:3666: UserWarning: The `factorplot` function has been renamed to `catplot`. The original name will be removed in a future release. Please update your code. Note that the default `kind` in `factorplot` (`'point'`) has changed `'strip'` in `catplot`.\n",
            "  warnings.warn(msg)\n"
          ],
          "name": "stderr"
        },
        {
          "output_type": "display_data",
          "data": {
            "image/png": "[encoded data removed]",
            "text/plain": [
              "<Figure size 360x360 with 1 Axes>"
            ]
          },
          "metadata": {
            "tags": []
          }
        }
      ]
    },
    {
      "cell_type": "code",
      "metadata": {
        "id": "DYwsprNVbx-r",
        "colab_type": "code",
        "outputId": "108d6d9f-b2ed-409e-de2f-a4ce21045e22",
        "colab": {
          "base_uri": "https://localhost:8080/",
          "height": 572
        }
      },
      "source": [
        "# Grafico \"Evolução número de suicídios, nos países, ao longo dos anos\" (\"suicides_no\" x \"country\" x \"year\")\n",
        "by_suicides_no = (df\n",
        "            .groupby('suicides_no')\n",
        "             .filter(lambda x : len(x) > 2)\n",
        "             .groupby(['country', 'year'])\n",
        "             .size()\n",
        "            .unstack()\n",
        "           )\n",
        "by_suicides_no"
      ],
      "execution_count": 0,
      "outputs": [
        {
          "output_type": "execute_result",
          "data": {
            "text/html": [
              "<div>\n",
              "<style scoped>\n",
              "    .dataframe tbody tr th:only-of-type {\n",
              "        vertical-align: middle;\n",
              "    }\n",
              "\n",
              "    .dataframe tbody tr th {\n",
              "        vertical-align: top;\n",
              "    }\n",
              "\n",
              "    .dataframe thead th {\n",
              "        text-align: right;\n",
              "    }\n",
              "</style>\n",
              "<table border=\"1\" class=\"dataframe\">\n",
              "  <thead>\n",
              "    <tr style=\"text-align: right;\">\n",
              "      <th>year</th>\n",
              "      <th>1985</th>\n",
              "      <th>1986</th>\n",
              "      <th>1987</th>\n",
              "      <th>1988</th>\n",
              "      <th>1989</th>\n",
              "      <th>1990</th>\n",
              "      <th>1991</th>\n",
              "      <th>1992</th>\n",
              "      <th>1993</th>\n",
              "      <th>1994</th>\n",
              "      <th>1995</th>\n",
              "      <th>1996</th>\n",
              "      <th>1997</th>\n",
              "      <th>1998</th>\n",
              "      <th>1999</th>\n",
              "      <th>2000</th>\n",
              "      <th>2001</th>\n",
              "      <th>2002</th>\n",
              "      <th>2003</th>\n",
              "      <th>2004</th>\n",
              "      <th>2005</th>\n",
              "      <th>2006</th>\n",
              "      <th>2007</th>\n",
              "      <th>2008</th>\n",
              "      <th>2009</th>\n",
              "      <th>2010</th>\n",
              "      <th>2011</th>\n",
              "      <th>2012</th>\n",
              "      <th>2013</th>\n",
              "      <th>2014</th>\n",
              "      <th>2015</th>\n",
              "      <th>2016</th>\n",
              "    </tr>\n",
              "    <tr>\n",
              "      <th>country</th>\n",
              "      <th></th>\n",
              "      <th></th>\n",
              "      <th></th>\n",
              "      <th></th>\n",
              "      <th></th>\n",
              "      <th></th>\n",
              "      <th></th>\n",
              "      <th></th>\n",
              "      <th></th>\n",
              "      <th></th>\n",
              "      <th></th>\n",
              "      <th></th>\n",
              "      <th></th>\n",
              "      <th></th>\n",
              "      <th></th>\n",
              "      <th></th>\n",
              "      <th></th>\n",
              "      <th></th>\n",
              "      <th></th>\n",
              "      <th></th>\n",
              "      <th></th>\n",
              "      <th></th>\n",
              "      <th></th>\n",
              "      <th></th>\n",
              "      <th></th>\n",
              "      <th></th>\n",
              "      <th></th>\n",
              "      <th></th>\n",
              "      <th></th>\n",
              "      <th></th>\n",
              "      <th></th>\n",
              "      <th></th>\n",
              "    </tr>\n",
              "  </thead>\n",
              "  <tbody>\n",
              "    <tr>\n",
              "      <th>Albania</th>\n",
              "      <td>NaN</td>\n",
              "      <td>NaN</td>\n",
              "      <td>12.0</td>\n",
              "      <td>12.0</td>\n",
              "      <td>12.0</td>\n",
              "      <td>NaN</td>\n",
              "      <td>NaN</td>\n",
              "      <td>12.0</td>\n",
              "      <td>12.0</td>\n",
              "      <td>12.0</td>\n",
              "      <td>12.0</td>\n",
              "      <td>12.0</td>\n",
              "      <td>12.0</td>\n",
              "      <td>12.0</td>\n",
              "      <td>12.0</td>\n",
              "      <td>12.0</td>\n",
              "      <td>12.0</td>\n",
              "      <td>12.0</td>\n",
              "      <td>12.0</td>\n",
              "      <td>12.0</td>\n",
              "      <td>12.0</td>\n",
              "      <td>12.0</td>\n",
              "      <td>12.0</td>\n",
              "      <td>12.0</td>\n",
              "      <td>12.0</td>\n",
              "      <td>12.0</td>\n",
              "      <td>NaN</td>\n",
              "      <td>NaN</td>\n",
              "      <td>NaN</td>\n",
              "      <td>NaN</td>\n",
              "      <td>NaN</td>\n",
              "      <td>NaN</td>\n",
              "    </tr>\n",
              "    <tr>\n",
              "      <th>Antigua and Barbuda</th>\n",
              "      <td>12.0</td>\n",
              "      <td>12.0</td>\n",
              "      <td>12.0</td>\n",
              "      <td>12.0</td>\n",
              "      <td>12.0</td>\n",
              "      <td>12.0</td>\n",
              "      <td>12.0</td>\n",
              "      <td>12.0</td>\n",
              "      <td>12.0</td>\n",
              "      <td>12.0</td>\n",
              "      <td>12.0</td>\n",
              "      <td>NaN</td>\n",
              "      <td>NaN</td>\n",
              "      <td>12.0</td>\n",
              "      <td>12.0</td>\n",
              "      <td>12.0</td>\n",
              "      <td>12.0</td>\n",
              "      <td>12.0</td>\n",
              "      <td>12.0</td>\n",
              "      <td>12.0</td>\n",
              "      <td>12.0</td>\n",
              "      <td>12.0</td>\n",
              "      <td>12.0</td>\n",
              "      <td>12.0</td>\n",
              "      <td>12.0</td>\n",
              "      <td>NaN</td>\n",
              "      <td>NaN</td>\n",
              "      <td>12.0</td>\n",
              "      <td>12.0</td>\n",
              "      <td>12.0</td>\n",
              "      <td>12.0</td>\n",
              "      <td>NaN</td>\n",
              "    </tr>\n",
              "    <tr>\n",
              "      <th>Argentina</th>\n",
              "      <td>12.0</td>\n",
              "      <td>11.0</td>\n",
              "      <td>12.0</td>\n",
              "      <td>12.0</td>\n",
              "      <td>11.0</td>\n",
              "      <td>12.0</td>\n",
              "      <td>12.0</td>\n",
              "      <td>12.0</td>\n",
              "      <td>12.0</td>\n",
              "      <td>12.0</td>\n",
              "      <td>12.0</td>\n",
              "      <td>12.0</td>\n",
              "      <td>12.0</td>\n",
              "      <td>12.0</td>\n",
              "      <td>12.0</td>\n",
              "      <td>12.0</td>\n",
              "      <td>12.0</td>\n",
              "      <td>11.0</td>\n",
              "      <td>12.0</td>\n",
              "      <td>11.0</td>\n",
              "      <td>12.0</td>\n",
              "      <td>12.0</td>\n",
              "      <td>12.0</td>\n",
              "      <td>12.0</td>\n",
              "      <td>12.0</td>\n",
              "      <td>12.0</td>\n",
              "      <td>12.0</td>\n",
              "      <td>12.0</td>\n",
              "      <td>11.0</td>\n",
              "      <td>12.0</td>\n",
              "      <td>12.0</td>\n",
              "      <td>NaN</td>\n",
              "    </tr>\n",
              "    <tr>\n",
              "      <th>Armenia</th>\n",
              "      <td>NaN</td>\n",
              "      <td>NaN</td>\n",
              "      <td>NaN</td>\n",
              "      <td>NaN</td>\n",
              "      <td>NaN</td>\n",
              "      <td>12.0</td>\n",
              "      <td>12.0</td>\n",
              "      <td>12.0</td>\n",
              "      <td>12.0</td>\n",
              "      <td>12.0</td>\n",
              "      <td>12.0</td>\n",
              "      <td>12.0</td>\n",
              "      <td>12.0</td>\n",
              "      <td>12.0</td>\n",
              "      <td>12.0</td>\n",
              "      <td>12.0</td>\n",
              "      <td>12.0</td>\n",
              "      <td>12.0</td>\n",
              "      <td>12.0</td>\n",
              "      <td>NaN</td>\n",
              "      <td>NaN</td>\n",
              "      <td>12.0</td>\n",
              "      <td>12.0</td>\n",
              "      <td>12.0</td>\n",
              "      <td>12.0</td>\n",
              "      <td>12.0</td>\n",
              "      <td>12.0</td>\n",
              "      <td>12.0</td>\n",
              "      <td>12.0</td>\n",
              "      <td>12.0</td>\n",
              "      <td>12.0</td>\n",
              "      <td>10.0</td>\n",
              "    </tr>\n",
              "    <tr>\n",
              "      <th>Aruba</th>\n",
              "      <td>NaN</td>\n",
              "      <td>NaN</td>\n",
              "      <td>NaN</td>\n",
              "      <td>NaN</td>\n",
              "      <td>NaN</td>\n",
              "      <td>NaN</td>\n",
              "      <td>NaN</td>\n",
              "      <td>NaN</td>\n",
              "      <td>NaN</td>\n",
              "      <td>NaN</td>\n",
              "      <td>12.0</td>\n",
              "      <td>NaN</td>\n",
              "      <td>NaN</td>\n",
              "      <td>NaN</td>\n",
              "      <td>12.0</td>\n",
              "      <td>12.0</td>\n",
              "      <td>12.0</td>\n",
              "      <td>12.0</td>\n",
              "      <td>12.0</td>\n",
              "      <td>12.0</td>\n",
              "      <td>12.0</td>\n",
              "      <td>12.0</td>\n",
              "      <td>12.0</td>\n",
              "      <td>12.0</td>\n",
              "      <td>12.0</td>\n",
              "      <td>12.0</td>\n",
              "      <td>12.0</td>\n",
              "      <td>NaN</td>\n",
              "      <td>NaN</td>\n",
              "      <td>NaN</td>\n",
              "      <td>NaN</td>\n",
              "      <td>NaN</td>\n",
              "    </tr>\n",
              "    <tr>\n",
              "      <th>...</th>\n",
              "      <td>...</td>\n",
              "      <td>...</td>\n",
              "      <td>...</td>\n",
              "      <td>...</td>\n",
              "      <td>...</td>\n",
              "      <td>...</td>\n",
              "      <td>...</td>\n",
              "      <td>...</td>\n",
              "      <td>...</td>\n",
              "      <td>...</td>\n",
              "      <td>...</td>\n",
              "      <td>...</td>\n",
              "      <td>...</td>\n",
              "      <td>...</td>\n",
              "      <td>...</td>\n",
              "      <td>...</td>\n",
              "      <td>...</td>\n",
              "      <td>...</td>\n",
              "      <td>...</td>\n",
              "      <td>...</td>\n",
              "      <td>...</td>\n",
              "      <td>...</td>\n",
              "      <td>...</td>\n",
              "      <td>...</td>\n",
              "      <td>...</td>\n",
              "      <td>...</td>\n",
              "      <td>...</td>\n",
              "      <td>...</td>\n",
              "      <td>...</td>\n",
              "      <td>...</td>\n",
              "      <td>...</td>\n",
              "      <td>...</td>\n",
              "    </tr>\n",
              "    <tr>\n",
              "      <th>United Arab Emirates</th>\n",
              "      <td>NaN</td>\n",
              "      <td>NaN</td>\n",
              "      <td>NaN</td>\n",
              "      <td>NaN</td>\n",
              "      <td>NaN</td>\n",
              "      <td>NaN</td>\n",
              "      <td>NaN</td>\n",
              "      <td>NaN</td>\n",
              "      <td>NaN</td>\n",
              "      <td>NaN</td>\n",
              "      <td>NaN</td>\n",
              "      <td>NaN</td>\n",
              "      <td>NaN</td>\n",
              "      <td>NaN</td>\n",
              "      <td>NaN</td>\n",
              "      <td>NaN</td>\n",
              "      <td>NaN</td>\n",
              "      <td>NaN</td>\n",
              "      <td>NaN</td>\n",
              "      <td>NaN</td>\n",
              "      <td>12.0</td>\n",
              "      <td>12.0</td>\n",
              "      <td>12.0</td>\n",
              "      <td>12.0</td>\n",
              "      <td>12.0</td>\n",
              "      <td>12.0</td>\n",
              "      <td>NaN</td>\n",
              "      <td>NaN</td>\n",
              "      <td>NaN</td>\n",
              "      <td>NaN</td>\n",
              "      <td>NaN</td>\n",
              "      <td>NaN</td>\n",
              "    </tr>\n",
              "    <tr>\n",
              "      <th>United Kingdom</th>\n",
              "      <td>10.0</td>\n",
              "      <td>10.0</td>\n",
              "      <td>10.0</td>\n",
              "      <td>10.0</td>\n",
              "      <td>10.0</td>\n",
              "      <td>11.0</td>\n",
              "      <td>11.0</td>\n",
              "      <td>11.0</td>\n",
              "      <td>11.0</td>\n",
              "      <td>11.0</td>\n",
              "      <td>11.0</td>\n",
              "      <td>10.0</td>\n",
              "      <td>11.0</td>\n",
              "      <td>11.0</td>\n",
              "      <td>10.0</td>\n",
              "      <td>11.0</td>\n",
              "      <td>12.0</td>\n",
              "      <td>10.0</td>\n",
              "      <td>11.0</td>\n",
              "      <td>11.0</td>\n",
              "      <td>11.0</td>\n",
              "      <td>12.0</td>\n",
              "      <td>10.0</td>\n",
              "      <td>10.0</td>\n",
              "      <td>11.0</td>\n",
              "      <td>10.0</td>\n",
              "      <td>10.0</td>\n",
              "      <td>11.0</td>\n",
              "      <td>11.0</td>\n",
              "      <td>12.0</td>\n",
              "      <td>11.0</td>\n",
              "      <td>NaN</td>\n",
              "    </tr>\n",
              "    <tr>\n",
              "      <th>United States</th>\n",
              "      <td>4.0</td>\n",
              "      <td>2.0</td>\n",
              "      <td>4.0</td>\n",
              "      <td>5.0</td>\n",
              "      <td>5.0</td>\n",
              "      <td>4.0</td>\n",
              "      <td>6.0</td>\n",
              "      <td>4.0</td>\n",
              "      <td>5.0</td>\n",
              "      <td>5.0</td>\n",
              "      <td>5.0</td>\n",
              "      <td>4.0</td>\n",
              "      <td>4.0</td>\n",
              "      <td>5.0</td>\n",
              "      <td>5.0</td>\n",
              "      <td>5.0</td>\n",
              "      <td>6.0</td>\n",
              "      <td>5.0</td>\n",
              "      <td>4.0</td>\n",
              "      <td>3.0</td>\n",
              "      <td>5.0</td>\n",
              "      <td>4.0</td>\n",
              "      <td>5.0</td>\n",
              "      <td>5.0</td>\n",
              "      <td>4.0</td>\n",
              "      <td>3.0</td>\n",
              "      <td>3.0</td>\n",
              "      <td>4.0</td>\n",
              "      <td>4.0</td>\n",
              "      <td>5.0</td>\n",
              "      <td>4.0</td>\n",
              "      <td>NaN</td>\n",
              "    </tr>\n",
              "    <tr>\n",
              "      <th>Uruguay</th>\n",
              "      <td>12.0</td>\n",
              "      <td>12.0</td>\n",
              "      <td>12.0</td>\n",
              "      <td>12.0</td>\n",
              "      <td>12.0</td>\n",
              "      <td>12.0</td>\n",
              "      <td>NaN</td>\n",
              "      <td>NaN</td>\n",
              "      <td>12.0</td>\n",
              "      <td>12.0</td>\n",
              "      <td>12.0</td>\n",
              "      <td>12.0</td>\n",
              "      <td>12.0</td>\n",
              "      <td>12.0</td>\n",
              "      <td>12.0</td>\n",
              "      <td>12.0</td>\n",
              "      <td>12.0</td>\n",
              "      <td>12.0</td>\n",
              "      <td>12.0</td>\n",
              "      <td>12.0</td>\n",
              "      <td>12.0</td>\n",
              "      <td>12.0</td>\n",
              "      <td>12.0</td>\n",
              "      <td>12.0</td>\n",
              "      <td>12.0</td>\n",
              "      <td>12.0</td>\n",
              "      <td>NaN</td>\n",
              "      <td>12.0</td>\n",
              "      <td>12.0</td>\n",
              "      <td>12.0</td>\n",
              "      <td>12.0</td>\n",
              "      <td>NaN</td>\n",
              "    </tr>\n",
              "    <tr>\n",
              "      <th>Uzbekistan</th>\n",
              "      <td>NaN</td>\n",
              "      <td>NaN</td>\n",
              "      <td>NaN</td>\n",
              "      <td>NaN</td>\n",
              "      <td>NaN</td>\n",
              "      <td>12.0</td>\n",
              "      <td>12.0</td>\n",
              "      <td>12.0</td>\n",
              "      <td>12.0</td>\n",
              "      <td>12.0</td>\n",
              "      <td>12.0</td>\n",
              "      <td>12.0</td>\n",
              "      <td>12.0</td>\n",
              "      <td>12.0</td>\n",
              "      <td>12.0</td>\n",
              "      <td>12.0</td>\n",
              "      <td>12.0</td>\n",
              "      <td>12.0</td>\n",
              "      <td>12.0</td>\n",
              "      <td>12.0</td>\n",
              "      <td>12.0</td>\n",
              "      <td>NaN</td>\n",
              "      <td>NaN</td>\n",
              "      <td>NaN</td>\n",
              "      <td>12.0</td>\n",
              "      <td>12.0</td>\n",
              "      <td>12.0</td>\n",
              "      <td>12.0</td>\n",
              "      <td>12.0</td>\n",
              "      <td>12.0</td>\n",
              "      <td>NaN</td>\n",
              "      <td>NaN</td>\n",
              "    </tr>\n",
              "  </tbody>\n",
              "</table>\n",
              "<p>101 rows × 32 columns</p>\n",
              "</div>"
            ],
            "text/plain": [
              "year                  1985  1986  1987  1988  ...  2013  2014  2015  2016\n",
              "country                                       ...                        \n",
              "Albania                NaN   NaN  12.0  12.0  ...   NaN   NaN   NaN   NaN\n",
              "Antigua and Barbuda   12.0  12.0  12.0  12.0  ...  12.0  12.0  12.0   NaN\n",
              "Argentina             12.0  11.0  12.0  12.0  ...  11.0  12.0  12.0   NaN\n",
              "Armenia                NaN   NaN   NaN   NaN  ...  12.0  12.0  12.0  10.0\n",
              "Aruba                  NaN   NaN   NaN   NaN  ...   NaN   NaN   NaN   NaN\n",
              "...                    ...   ...   ...   ...  ...   ...   ...   ...   ...\n",
              "United Arab Emirates   NaN   NaN   NaN   NaN  ...   NaN   NaN   NaN   NaN\n",
              "United Kingdom        10.0  10.0  10.0  10.0  ...  11.0  12.0  11.0   NaN\n",
              "United States          4.0   2.0   4.0   5.0  ...   4.0   5.0   4.0   NaN\n",
              "Uruguay               12.0  12.0  12.0  12.0  ...  12.0  12.0  12.0   NaN\n",
              "Uzbekistan             NaN   NaN   NaN   NaN  ...  12.0  12.0   NaN   NaN\n",
              "\n",
              "[101 rows x 32 columns]"
            ]
          },
          "metadata": {
            "tags": []
          },
          "execution_count": 35
        }
      ]
    },
    {
      "cell_type": "code",
      "metadata": {
        "id": "tIJOKj63dA8R",
        "colab_type": "code",
        "outputId": "d6f8f8d7-6d18-401c-8ed8-9553e8e3fb6f",
        "colab": {
          "base_uri": "https://localhost:8080/",
          "height": 1000
        }
      },
      "source": [
        "plt.figure(figsize=(50,50))\n",
        "g = sns.heatmap(\n",
        "    by_suicides_no, \n",
        "    square=True, # make cells square\n",
        "    cbar_kws={'fraction' : 0.01}, # shrink colour bar\n",
        "    cmap='OrRd', # use orange/red colour map\n",
        "    linewidth=1 # space between cells\n",
        ")"
      ],
      "execution_count": 0,
      "outputs": [
        {
          "output_type": "display_data",
          "data": {
            "image/png": "[encoded data removed]",
            "text/plain": [
              "<Figure size 3600x3600 with 2 Axes>"
            ]
          },
          "metadata": {
            "tags": []
          }
        }
      ]
    },
    {
      "cell_type": "markdown",
      "metadata": {
        "id": "uMWXK_NfaJqj",
        "colab_type": "text"
      },
      "source": [
        "### 5) Conclusões **15%**"
      ]
    },
    {
      "cell_type": "markdown",
      "metadata": {
        "id": "ehp9kJh_aJqk",
        "colab_type": "text"
      },
      "source": [
        "*O que é possível concluir com os dados que você analisou? Se fosse fazer uma apresentação, o que levaria como os maiores destaques e por que?*"
      ]
    },
    {
      "cell_type": "markdown",
      "metadata": {
        "id": "Q-vkk5rDaJqk",
        "colab_type": "text"
      },
      "source": [
        "Por meio da analise dos dados da base \"Suicide Rates Overview 1985 to 2016\" é possível concluir que a ocorrência de suicídios é maior entre homens do que entre mulheres, e que a faixa de idade de 35-54 anos é a mais suscetível à prática de tal ato. Outra conclusão possível de se inferir é que o suicidío ocorre com mais frequência nos países mais ricos, com PIB per capta mais elevado do que dos países subdesenvolvidos ou em desenvolvimento.\n",
        "Para uma eventual apresentação dos dados, seria relevante chamar a atenção para o perfil do suicida em potencial: homem, adulto (com idade entre 35-54 anos) e originário de países desenvolvidos; ressaltando principalmente o último aspecto. Outro fato interessante é a evolução número de suicídios, nos países, ao longo dos anos. O gráfico que evidencia tais dados ilustra o fato de que o número de suícidios, ao longo dos anos, vem aumentando na maior parte dos países, o que só reforça a tese da Organização Mundial de Saúde de que se trata de um problema contemporâneo de saúde publica, que deve ser assim tratado pelas políticas públicas de saúde e educação."
      ]
    }
  ]
}